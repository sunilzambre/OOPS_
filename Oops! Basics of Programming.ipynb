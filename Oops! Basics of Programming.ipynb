{
 "cells": [
  {
   "cell_type": "markdown",
   "id": "e811b8ea",
   "metadata": {},
   "source": [
    "#### OOPS (Object-Oriented Programming) is a programming approach that focuses on organizing code around objects, which are self-contained entities that hold both data and the operations that can be performed on that data. It allows for modular and reusable code, making it easier to understand and maintain software systems."
   ]
  },
  {
   "cell_type": "code",
   "execution_count": 1,
   "id": "71f51279",
   "metadata": {},
   "outputs": [],
   "source": [
    "a=1"
   ]
  },
  {
   "cell_type": "code",
   "execution_count": 2,
   "id": "e790dcec",
   "metadata": {},
   "outputs": [
    {
     "data": {
      "text/plain": [
       "int"
      ]
     },
     "execution_count": 2,
     "metadata": {},
     "output_type": "execute_result"
    }
   ],
   "source": [
    "type(a)"
   ]
  },
  {
   "cell_type": "code",
   "execution_count": 3,
   "id": "59f51587",
   "metadata": {},
   "outputs": [
    {
     "name": "stdout",
     "output_type": "stream",
     "text": [
      "1\n"
     ]
    }
   ],
   "source": [
    "print(a)"
   ]
  },
  {
   "cell_type": "code",
   "execution_count": 4,
   "id": "7c917536",
   "metadata": {},
   "outputs": [
    {
     "name": "stdout",
     "output_type": "stream",
     "text": [
      "<class 'int'>\n"
     ]
    }
   ],
   "source": [
    "print(type(a))"
   ]
  },
  {
   "cell_type": "code",
   "execution_count": 5,
   "id": "028d9d7b",
   "metadata": {},
   "outputs": [
    {
     "name": "stdout",
     "output_type": "stream",
     "text": [
      "<class 'str'>\n"
     ]
    }
   ],
   "source": [
    "print(type(\"sunil\"))"
   ]
  },
  {
   "cell_type": "code",
   "execution_count": 6,
   "id": "ab1756e3",
   "metadata": {},
   "outputs": [
    {
     "name": "stdout",
     "output_type": "stream",
     "text": [
      "<class 'bool'>\n"
     ]
    }
   ],
   "source": [
    "print(type(True))"
   ]
  },
  {
   "cell_type": "code",
   "execution_count": 7,
   "id": "b136ee4a",
   "metadata": {},
   "outputs": [
    {
     "name": "stdout",
     "output_type": "stream",
     "text": [
      "<class 'complex'>\n"
     ]
    }
   ],
   "source": [
    "print(type(3+2j))"
   ]
  },
  {
   "cell_type": "code",
   "execution_count": 8,
   "id": "7de485f4",
   "metadata": {},
   "outputs": [
    {
     "name": "stdout",
     "output_type": "stream",
     "text": [
      "<class 'float'>\n"
     ]
    }
   ],
   "source": [
    "print(type(30.55))"
   ]
  },
  {
   "cell_type": "code",
   "execution_count": 9,
   "id": "0f433da6",
   "metadata": {},
   "outputs": [],
   "source": [
    "class test:\n",
    "    pass"
   ]
  },
  {
   "cell_type": "code",
   "execution_count": 10,
   "id": "9943dd3c",
   "metadata": {},
   "outputs": [],
   "source": [
    "a = test()"
   ]
  },
  {
   "cell_type": "code",
   "execution_count": 11,
   "id": "09f4bc07",
   "metadata": {},
   "outputs": [
    {
     "data": {
      "text/plain": [
       "__main__.test"
      ]
     },
     "execution_count": 11,
     "metadata": {},
     "output_type": "execute_result"
    }
   ],
   "source": [
    "type(a)"
   ]
  },
  {
   "cell_type": "code",
   "execution_count": 12,
   "id": "6ea73621",
   "metadata": {},
   "outputs": [
    {
     "name": "stdout",
     "output_type": "stream",
     "text": [
      "<class '__main__.test'>\n"
     ]
    }
   ],
   "source": [
    "print(type(a))"
   ]
  },
  {
   "cell_type": "code",
   "execution_count": 13,
   "id": "80b6de54",
   "metadata": {},
   "outputs": [
    {
     "name": "stdout",
     "output_type": "stream",
     "text": [
      "Sunil\n",
      "38\n"
     ]
    }
   ],
   "source": [
    "# Variable assignment\n",
    "name = \"Sunil\"\n",
    "age = 38\n",
    "# Print variable values\n",
    "print(name) \n",
    "print(age)"
   ]
  },
  {
   "cell_type": "code",
   "execution_count": 14,
   "id": "1b06c8a6",
   "metadata": {},
   "outputs": [
    {
     "name": "stdout",
     "output_type": "stream",
     "text": [
      "Hi, my name is Sunil  and I am  38 years old.\n",
      "Hi, my name is Rahul  and I am  30 years old.\n"
     ]
    }
   ],
   "source": [
    "class Person:\n",
    "    def __init__(self, name, age):\n",
    "        self.name = name\n",
    "        self.age = age\n",
    "    \n",
    "    def introduce(self):\n",
    "        print(f\"Hi, my name is {self.name}  and I am  {self.age} years old.\")\n",
    "\n",
    "    # Creating objects from the Person class\n",
    "person1 = Person(\"Sunil\", 38)\n",
    "person2 = Person(\"Rahul\", 30)\n",
    "\n",
    "# Calling the introduce method on objects\n",
    "person1.introduce() \n",
    "person2.introduce() "
   ]
  },
  {
   "cell_type": "code",
   "execution_count": 15,
   "id": "2f9308f6",
   "metadata": {},
   "outputs": [],
   "source": [
    "class oops_intro:\n",
    "    def welcome_msg(self):\n",
    "        print(\"welcome to OOPS! Basic programing\")"
   ]
  },
  {
   "cell_type": "code",
   "execution_count": 16,
   "id": "8a6809b8",
   "metadata": {},
   "outputs": [
    {
     "name": "stdout",
     "output_type": "stream",
     "text": [
      "<class '__main__.oops_intro'>\n"
     ]
    }
   ],
   "source": [
    "oops_obj = oops_intro()\n",
    "print(type(oops_obj ))"
   ]
  },
  {
   "cell_type": "code",
   "execution_count": 17,
   "id": "22e3226d",
   "metadata": {},
   "outputs": [
    {
     "name": "stdout",
     "output_type": "stream",
     "text": [
      "welcome to OOPS! Basic programing\n"
     ]
    }
   ],
   "source": [
    "oops_obj.welcome_msg()"
   ]
  },
  {
   "cell_type": "code",
   "execution_count": 18,
   "id": "f6ef0984",
   "metadata": {},
   "outputs": [],
   "source": [
    "new_obj = oops_intro()"
   ]
  },
  {
   "cell_type": "code",
   "execution_count": 19,
   "id": "d51b89f3",
   "metadata": {},
   "outputs": [
    {
     "name": "stdout",
     "output_type": "stream",
     "text": [
      "welcome to OOPS! Basic programing\n"
     ]
    }
   ],
   "source": [
    "new_obj.welcome_msg()"
   ]
  },
  {
   "cell_type": "code",
   "execution_count": 20,
   "id": "79958b57",
   "metadata": {},
   "outputs": [],
   "source": [
    "class student:\n",
    "    def __init__(self ,phone_number , email_id , student_id ):\n",
    "        self.phone_number = phone_number\n",
    "        self.email_id = email_id\n",
    "        self.student_id = student_id\n",
    "    \n",
    "    def return_student_details(self): \n",
    "        return self.student_id ,self.phone_number ,self.email_id"
   ]
  },
  {
   "cell_type": "code",
   "execution_count": 21,
   "id": "eaa73d13",
   "metadata": {},
   "outputs": [],
   "source": [
    "std_obj = student(9098764567,\"ravipawar@gmail.com\",72)"
   ]
  },
  {
   "cell_type": "code",
   "execution_count": 22,
   "id": "a8dc2f1c",
   "metadata": {},
   "outputs": [
    {
     "data": {
      "text/plain": [
       "<__main__.student at 0x1f7a9f50d60>"
      ]
     },
     "execution_count": 22,
     "metadata": {},
     "output_type": "execute_result"
    }
   ],
   "source": [
    "std_obj"
   ]
  },
  {
   "cell_type": "code",
   "execution_count": 23,
   "id": "ccb6487a",
   "metadata": {},
   "outputs": [
    {
     "data": {
      "text/plain": [
       "9098764567"
      ]
     },
     "execution_count": 23,
     "metadata": {},
     "output_type": "execute_result"
    }
   ],
   "source": [
    "std_obj.phone_number"
   ]
  },
  {
   "cell_type": "code",
   "execution_count": 24,
   "id": "4b0f9a56",
   "metadata": {},
   "outputs": [
    {
     "data": {
      "text/plain": [
       "'ravipawar@gmail.com'"
      ]
     },
     "execution_count": 24,
     "metadata": {},
     "output_type": "execute_result"
    }
   ],
   "source": [
    "std_obj.email_id"
   ]
  },
  {
   "cell_type": "code",
   "execution_count": 25,
   "id": "f2148dd9",
   "metadata": {},
   "outputs": [
    {
     "data": {
      "text/plain": [
       "72"
      ]
     },
     "execution_count": 25,
     "metadata": {},
     "output_type": "execute_result"
    }
   ],
   "source": [
    "std_obj.student_id"
   ]
  },
  {
   "cell_type": "code",
   "execution_count": 26,
   "id": "9b85ca7d",
   "metadata": {},
   "outputs": [
    {
     "data": {
      "text/plain": [
       "(72, 9098764567, 'ravipawar@gmail.com')"
      ]
     },
     "execution_count": 26,
     "metadata": {},
     "output_type": "execute_result"
    }
   ],
   "source": [
    "std_obj.return_student_details()"
   ]
  },
  {
   "cell_type": "markdown",
   "id": "8c5512b2",
   "metadata": {},
   "source": [
    "## Polymorphism:\n",
    "##### Polymorphism allows objects of different classes to be treated as objects of a common superclass. \n",
    "- It enables the use of a single interface to represent different types of objects, providing flexibility and extensibility   in code design. Polymorphism can be achieved through method overriding and method overloading."
   ]
  },
  {
   "cell_type": "code",
   "execution_count": 27,
   "id": "6bb10357",
   "metadata": {},
   "outputs": [],
   "source": [
    "def test(a , b ):\n",
    "    return a+b"
   ]
  },
  {
   "cell_type": "code",
   "execution_count": 28,
   "id": "3d85f579",
   "metadata": {},
   "outputs": [
    {
     "data": {
      "text/plain": [
       "30"
      ]
     },
     "execution_count": 28,
     "metadata": {},
     "output_type": "execute_result"
    }
   ],
   "source": [
    "test(10,20)"
   ]
  },
  {
   "cell_type": "code",
   "execution_count": 29,
   "id": "c0fb1c2f",
   "metadata": {},
   "outputs": [
    {
     "data": {
      "text/plain": [
       "'sunilzambre'"
      ]
     },
     "execution_count": 29,
     "metadata": {},
     "output_type": "execute_result"
    }
   ],
   "source": [
    "test('sunil','zambre')"
   ]
  },
  {
   "cell_type": "code",
   "execution_count": 30,
   "id": "712f8d04",
   "metadata": {},
   "outputs": [
    {
     "data": {
      "text/plain": [
       "[10, 20, 30, 40, 50, 100, 200, 300, 400, 500]"
      ]
     },
     "execution_count": 30,
     "metadata": {},
     "output_type": "execute_result"
    }
   ],
   "source": [
    "test([10,20,30,40,50] , [100,200,300,400,500])"
   ]
  },
  {
   "cell_type": "code",
   "execution_count": 31,
   "id": "ccc905e5",
   "metadata": {},
   "outputs": [],
   "source": [
    "class data_science:\n",
    "    def syllabus(self):\n",
    "        print(\"You complete your Data Science module everyday..!\")"
   ]
  },
  {
   "cell_type": "code",
   "execution_count": 32,
   "id": "52c6cb28",
   "metadata": {},
   "outputs": [],
   "source": [
    "class python_lang:\n",
    "    def syllabus(self):\n",
    "        print(\"Learn all concepts carefully..!\" )"
   ]
  },
  {
   "cell_type": "code",
   "execution_count": 33,
   "id": "6ab1a912",
   "metadata": {},
   "outputs": [],
   "source": [
    "def class_parcer(class_obj):\n",
    "    for i in class_obj :\n",
    "        i.syllabus()"
   ]
  },
  {
   "cell_type": "code",
   "execution_count": 34,
   "id": "406985b8",
   "metadata": {},
   "outputs": [],
   "source": [
    "data_science = data_science()"
   ]
  },
  {
   "cell_type": "code",
   "execution_count": 35,
   "id": "80920051",
   "metadata": {},
   "outputs": [],
   "source": [
    "py_lan = python_lang()"
   ]
  },
  {
   "cell_type": "code",
   "execution_count": 36,
   "id": "16d0bda0",
   "metadata": {},
   "outputs": [],
   "source": [
    "class_obj = [data_science , py_lan]"
   ]
  },
  {
   "cell_type": "code",
   "execution_count": 37,
   "id": "541162ea",
   "metadata": {},
   "outputs": [
    {
     "name": "stdout",
     "output_type": "stream",
     "text": [
      "You complete your Data Science module everyday..!\n",
      "Learn all concepts carefully..!\n"
     ]
    }
   ],
   "source": [
    "class_parcer(class_obj)"
   ]
  },
  {
   "cell_type": "code",
   "execution_count": 38,
   "id": "cdb1b722",
   "metadata": {},
   "outputs": [],
   "source": [
    "class Animal:\n",
    "    def make_sound(self):\n",
    "        pass"
   ]
  },
  {
   "cell_type": "code",
   "execution_count": 39,
   "id": "a941b5eb",
   "metadata": {},
   "outputs": [],
   "source": [
    "class Dog(Animal):\n",
    "    def make_sound(self):\n",
    "        print(\"Woof!\")"
   ]
  },
  {
   "cell_type": "code",
   "execution_count": 40,
   "id": "7c0674e3",
   "metadata": {},
   "outputs": [],
   "source": [
    "class Cat(Animal):\n",
    "    def make_sound(self):\n",
    "        print(\"Meow!\")"
   ]
  },
  {
   "cell_type": "code",
   "execution_count": 41,
   "id": "6c0c379d",
   "metadata": {},
   "outputs": [],
   "source": [
    "class Cow(Animal):\n",
    "    def make_sound(self):\n",
    "        print(\"Moo!\")"
   ]
  },
  {
   "cell_type": "code",
   "execution_count": 42,
   "id": "8e5f0af8",
   "metadata": {},
   "outputs": [],
   "source": [
    "# Create instances of different animal classes\n",
    "dog = Dog()\n",
    "cat = Cat()\n",
    "cow = Cow()"
   ]
  },
  {
   "cell_type": "code",
   "execution_count": 43,
   "id": "daaff0fa",
   "metadata": {},
   "outputs": [
    {
     "name": "stdout",
     "output_type": "stream",
     "text": [
      "Woof!\n",
      "Meow!\n",
      "Moo!\n"
     ]
    }
   ],
   "source": [
    "# Call the make_sound method for each animal\n",
    "dog.make_sound()\n",
    "cat.make_sound()\n",
    "cow.make_sound()"
   ]
  },
  {
   "cell_type": "markdown",
   "id": "99ac25c8",
   "metadata": {},
   "source": [
    "- In this example, we have an abstract Animal class with a make_sound method that is defined as pass, meaning it does         nothing. \n",
    "- The Dog, Cat, and Cow classes inherit from the Animal class and provide their own implementation of the make_sound         method. We then create instances of each class (dog, cat, and cow). Despite the fact that they are different types of       animals, we can call the make_sound method on each object. \n",
    "- When the method is called, the appropriate implementation defined in each class is executed.\n",
    "- This demonstrates polymorphism, as objects of different classes are treated as objects of a common superclass (Animal). \n",
    "- The same method make_sound is invoked on each object, but the actual behavior executed depends on the specific class of     the object."
   ]
  },
  {
   "cell_type": "markdown",
   "id": "2d13c729",
   "metadata": {},
   "source": [
    "## Encapsulation\n",
    "#### Encapsulation is the process of bundling data and related methods/functions into a single unit known as a class. \n",
    "##### It promotes data hiding by providing access to data through methods, ensuring that data is accessed and modified in a controlled manner. This helps in maintaining code integrity and prevents direct manipulation of data from outside the class."
   ]
  },
  {
   "cell_type": "code",
   "execution_count": 44,
   "id": "6b6986e3",
   "metadata": {},
   "outputs": [],
   "source": [
    "class test:\n",
    "    def __init__(self , a, b ):\n",
    "        self.a = a\n",
    "        self.b = b"
   ]
  },
  {
   "cell_type": "code",
   "execution_count": 45,
   "id": "cba98d07",
   "metadata": {},
   "outputs": [],
   "source": [
    "t = test(15,45)"
   ]
  },
  {
   "cell_type": "code",
   "execution_count": 46,
   "id": "3a94b82f",
   "metadata": {},
   "outputs": [],
   "source": [
    "t.a = 2345345"
   ]
  },
  {
   "cell_type": "code",
   "execution_count": 47,
   "id": "6bdd2f4c",
   "metadata": {},
   "outputs": [
    {
     "data": {
      "text/plain": [
       "2345345"
      ]
     },
     "execution_count": 47,
     "metadata": {},
     "output_type": "execute_result"
    }
   ],
   "source": [
    "t.a"
   ]
  },
  {
   "cell_type": "code",
   "execution_count": 48,
   "id": "dab4b7c3",
   "metadata": {},
   "outputs": [],
   "source": [
    "class car:\n",
    "    def __init__(self , year , make , model, speed ):\n",
    "        self.__year = year\n",
    "        self.__make = make\n",
    "        self.__model = model\n",
    "        self.__speed = 0\n",
    " \n",
    "    def set_speed(self,speed):\n",
    "        self.__speed = 0 if speed < 0 else speed\n",
    "    \n",
    "    def get_speed(self):\n",
    "        return self.__speed"
   ]
  },
  {
   "cell_type": "code",
   "execution_count": 49,
   "id": "9121eea7",
   "metadata": {},
   "outputs": [],
   "source": [
    "c = car(2021 , \"toyata\" , \"innova\" , 12)"
   ]
  },
  {
   "cell_type": "code",
   "execution_count": 50,
   "id": "643969f9",
   "metadata": {},
   "outputs": [
    {
     "data": {
      "text/plain": [
       "2021"
      ]
     },
     "execution_count": 50,
     "metadata": {},
     "output_type": "execute_result"
    }
   ],
   "source": [
    "c._car__year"
   ]
  },
  {
   "cell_type": "code",
   "execution_count": 51,
   "id": "08c3442e",
   "metadata": {},
   "outputs": [],
   "source": [
    "c.set_speed(-3245)"
   ]
  },
  {
   "cell_type": "code",
   "execution_count": 52,
   "id": "3953e3a8",
   "metadata": {},
   "outputs": [
    {
     "data": {
      "text/plain": [
       "0"
      ]
     },
     "execution_count": 52,
     "metadata": {},
     "output_type": "execute_result"
    }
   ],
   "source": [
    "c.get_speed()"
   ]
  },
  {
   "cell_type": "code",
   "execution_count": 53,
   "id": "990e6bae",
   "metadata": {},
   "outputs": [],
   "source": [
    "c.set_speed(234)"
   ]
  },
  {
   "cell_type": "code",
   "execution_count": 54,
   "id": "9c44f33e",
   "metadata": {},
   "outputs": [
    {
     "data": {
      "text/plain": [
       "234"
      ]
     },
     "execution_count": 54,
     "metadata": {},
     "output_type": "execute_result"
    }
   ],
   "source": [
    "c.get_speed()"
   ]
  },
  {
   "cell_type": "code",
   "execution_count": 55,
   "id": "0904f88d",
   "metadata": {},
   "outputs": [],
   "source": [
    "class bank_account:\n",
    "    def __init__(self , balance):\n",
    "        self.__balanace = balance\n",
    " \n",
    "    def deposit(self , amount):\n",
    "        self.__balanace = self.__balanace + amount\n",
    " \n",
    "    def withdaw(self ,amount):\n",
    "        if self.__balanace >= amount:\n",
    "            self.__balanace = self.__balanace - amount\n",
    "            return True\n",
    "        else : \n",
    "             return False\n",
    " \n",
    "    def get_banalnce(self):\n",
    "        return self.__balanace"
   ]
  },
  {
   "cell_type": "code",
   "execution_count": 56,
   "id": "e3a6e1e8",
   "metadata": {},
   "outputs": [],
   "source": [
    "sunil = bank_account(1000)"
   ]
  },
  {
   "cell_type": "code",
   "execution_count": 57,
   "id": "142f7c11",
   "metadata": {},
   "outputs": [
    {
     "data": {
      "text/plain": [
       "1000"
      ]
     },
     "execution_count": 57,
     "metadata": {},
     "output_type": "execute_result"
    }
   ],
   "source": [
    "sunil.get_banalnce()"
   ]
  },
  {
   "cell_type": "code",
   "execution_count": 58,
   "id": "75d8ad2b",
   "metadata": {},
   "outputs": [],
   "source": [
    "sunil.deposit(5000)"
   ]
  },
  {
   "cell_type": "code",
   "execution_count": 59,
   "id": "54291b75",
   "metadata": {},
   "outputs": [
    {
     "data": {
      "text/plain": [
       "6000"
      ]
     },
     "execution_count": 59,
     "metadata": {},
     "output_type": "execute_result"
    }
   ],
   "source": [
    "sunil.get_banalnce()"
   ]
  },
  {
   "cell_type": "code",
   "execution_count": 60,
   "id": "a14c8934",
   "metadata": {},
   "outputs": [],
   "source": [
    "sunil.deposit(1000)"
   ]
  },
  {
   "cell_type": "code",
   "execution_count": 61,
   "id": "c982a97c",
   "metadata": {},
   "outputs": [
    {
     "data": {
      "text/plain": [
       "7000"
      ]
     },
     "execution_count": 61,
     "metadata": {},
     "output_type": "execute_result"
    }
   ],
   "source": [
    "sunil.get_banalnce()"
   ]
  },
  {
   "cell_type": "code",
   "execution_count": 62,
   "id": "23a9f7f9",
   "metadata": {},
   "outputs": [
    {
     "data": {
      "text/plain": [
       "False"
      ]
     },
     "execution_count": 62,
     "metadata": {},
     "output_type": "execute_result"
    }
   ],
   "source": [
    "sunil.withdaw(9000)"
   ]
  },
  {
   "cell_type": "code",
   "execution_count": 63,
   "id": "6ec254c1",
   "metadata": {},
   "outputs": [
    {
     "data": {
      "text/plain": [
       "True"
      ]
     },
     "execution_count": 63,
     "metadata": {},
     "output_type": "execute_result"
    }
   ],
   "source": [
    "sunil.withdaw(3000)"
   ]
  },
  {
   "cell_type": "code",
   "execution_count": 64,
   "id": "552bbe37",
   "metadata": {},
   "outputs": [
    {
     "data": {
      "text/plain": [
       "4000"
      ]
     },
     "execution_count": 64,
     "metadata": {},
     "output_type": "execute_result"
    }
   ],
   "source": [
    "sunil.get_banalnce()"
   ]
  },
  {
   "cell_type": "code",
   "execution_count": 65,
   "id": "c2d0b56d",
   "metadata": {},
   "outputs": [
    {
     "name": "stdout",
     "output_type": "stream",
     "text": [
      "Initial balance: 1000\n",
      "Balance after deposit: 1500\n",
      "Balance after withdrawal: 1300\n"
     ]
    }
   ],
   "source": [
    "class BankAccount:\n",
    "    def __init__(self, account_number, balance):\n",
    "        self._account_number = account_number\n",
    "        self._balance = balance\n",
    "\n",
    "    def deposit(self, amount):\n",
    "        self._balance += amount\n",
    "    \n",
    "    def withdraw(self, amount):\n",
    "        if amount <= self._balance:\n",
    "            self._balance -= amount\n",
    "        else:\n",
    "            print(\"Insufficient funds!\")\n",
    " \n",
    "    def get_balance(self):\n",
    "        return self._balance\n",
    "\n",
    "# Create an instance of the BankAccount class\n",
    "account = BankAccount(\"1234567890\", 1000)\n",
    "\n",
    "# Access and modify attributes using methods\n",
    "print(\"Initial balance:\", account.get_balance())\n",
    "account.deposit(500)\n",
    "print(\"Balance after deposit:\", account.get_balance())\n",
    "account.withdraw(200)\n",
    "print(\"Balance after withdrawal:\", account.get_balance())"
   ]
  },
  {
   "cell_type": "markdown",
   "id": "da4dcbb1",
   "metadata": {},
   "source": [
    "In this example, we have a BankAccount class that represents a bank account. \n",
    "The attributes_account_number and _balance are prefixed with an underscore indicating that they are intended to be internal to the class and not accessed directly from outside the class.The class provides methods to interact with the account: deposit, withdraw, and get_balance.\n",
    "\n",
    "These methods allow controlled access to the attributes and enforce rules, such as ensuring sufficient funds for withdrawals. By encapsulating the attributes and providing public methods for access and modification, we ensure that the account balance can only be modified through the defined methods. This encapsulation protects the integrity of the data and prevents unauthorized or inconsistent modifications from outside the class. Clients of the BankAccount class can only interact with the account through the provided methods, maintaining encapsulation and ensuring that the behavior and state of the account\n"
   ]
  },
  {
   "cell_type": "markdown",
   "id": "6a9de166",
   "metadata": {},
   "source": [
    "## Inheritance\n",
    "#### Inheritance allows classes to inherit attributes and behaviors from other classes. \n",
    "#### A class that inherits from another class is called a subclass or derived class, while the class being inherited from is called a superclass or base class.\n",
    "#### Inheritance promotes code reuse and the creation of hierarchical relationships between classes."
   ]
  },
  {
   "cell_type": "code",
   "execution_count": 66,
   "id": "62a62825",
   "metadata": {},
   "outputs": [],
   "source": [
    "class parent:\n",
    "    def test_parent(self):\n",
    "        print(\"this is my parent class \")"
   ]
  },
  {
   "cell_type": "code",
   "execution_count": 67,
   "id": "e55fba22",
   "metadata": {},
   "outputs": [],
   "source": [
    "class child(parent):\n",
    "    pass"
   ]
  },
  {
   "cell_type": "code",
   "execution_count": 68,
   "id": "3f5b475c",
   "metadata": {},
   "outputs": [],
   "source": [
    "child_obj = child()"
   ]
  },
  {
   "cell_type": "code",
   "execution_count": 69,
   "id": "9fcc6be4",
   "metadata": {},
   "outputs": [
    {
     "name": "stdout",
     "output_type": "stream",
     "text": [
      "this is my parent class \n"
     ]
    }
   ],
   "source": [
    "child_obj.test_parent()"
   ]
  },
  {
   "cell_type": "code",
   "execution_count": 70,
   "id": "4947afa9",
   "metadata": {},
   "outputs": [],
   "source": [
    "class class1:\n",
    "    def test_class1(self):\n",
    "        print(\"this is my class1 \" )"
   ]
  },
  {
   "cell_type": "code",
   "execution_count": 71,
   "id": "db8eda31",
   "metadata": {},
   "outputs": [],
   "source": [
    "class class2(class1):\n",
    "    def test_class2(self):\n",
    "        print(\"this is my class2\" )"
   ]
  },
  {
   "cell_type": "code",
   "execution_count": 72,
   "id": "c2348918",
   "metadata": {},
   "outputs": [],
   "source": [
    "class class3(class2):\n",
    "    def test_class3(self):\n",
    "        print(\"this is my class3 \")"
   ]
  },
  {
   "cell_type": "code",
   "execution_count": 73,
   "id": "acfc7715",
   "metadata": {},
   "outputs": [],
   "source": [
    "obj_class3 = class3()"
   ]
  },
  {
   "cell_type": "code",
   "execution_count": 74,
   "id": "eb9d2c40",
   "metadata": {},
   "outputs": [
    {
     "name": "stdout",
     "output_type": "stream",
     "text": [
      "this is my class1 \n"
     ]
    }
   ],
   "source": [
    "obj_class3.test_class1()"
   ]
  },
  {
   "cell_type": "code",
   "execution_count": 75,
   "id": "e3f9f0b4",
   "metadata": {},
   "outputs": [
    {
     "name": "stdout",
     "output_type": "stream",
     "text": [
      "this is my class2\n"
     ]
    }
   ],
   "source": [
    "obj_class3.test_class2()"
   ]
  },
  {
   "cell_type": "code",
   "execution_count": 76,
   "id": "7e33e4e5",
   "metadata": {},
   "outputs": [
    {
     "name": "stdout",
     "output_type": "stream",
     "text": [
      "this is my class3 \n"
     ]
    }
   ],
   "source": [
    "obj_class3.test_class3()"
   ]
  },
  {
   "cell_type": "code",
   "execution_count": 77,
   "id": "b35b39ce",
   "metadata": {},
   "outputs": [],
   "source": [
    "class class1:\n",
    "    def test_class1(self):\n",
    "        print(\"this is my class 1\")"
   ]
  },
  {
   "cell_type": "code",
   "execution_count": 78,
   "id": "4055a31d",
   "metadata": {},
   "outputs": [],
   "source": [
    "class class2:\n",
    "    def test_class2(self):\n",
    "        print(\"this is my class 2\")"
   ]
  },
  {
   "cell_type": "code",
   "execution_count": 79,
   "id": "77936fe1",
   "metadata": {},
   "outputs": [],
   "source": [
    "class class3 (class1 , class2):pass"
   ]
  },
  {
   "cell_type": "code",
   "execution_count": 80,
   "id": "314d9f90",
   "metadata": {},
   "outputs": [],
   "source": [
    "obj_class3 = class3()"
   ]
  },
  {
   "cell_type": "code",
   "execution_count": 81,
   "id": "1df10efe",
   "metadata": {},
   "outputs": [
    {
     "name": "stdout",
     "output_type": "stream",
     "text": [
      "this is my class 1\n"
     ]
    }
   ],
   "source": [
    "obj_class3.test_class1()"
   ]
  },
  {
   "cell_type": "code",
   "execution_count": 82,
   "id": "f58648de",
   "metadata": {},
   "outputs": [
    {
     "name": "stdout",
     "output_type": "stream",
     "text": [
      "this is my class 2\n"
     ]
    }
   ],
   "source": [
    "obj_class3.test_class2()"
   ]
  },
  {
   "cell_type": "code",
   "execution_count": 83,
   "id": "9181cc9c",
   "metadata": {},
   "outputs": [
    {
     "name": "stdout",
     "output_type": "stream",
     "text": [
      "Buddy is eating.\n",
      "Buddy is barking.\n",
      "Whiskers is eating.\n"
     ]
    },
    {
     "data": {
      "text/plain": [
       "<bound method Cat.meow of <__main__.Cat object at 0x000001F7A9FA81C0>>"
      ]
     },
     "execution_count": 83,
     "metadata": {},
     "output_type": "execute_result"
    }
   ],
   "source": [
    "class Animal:\n",
    "    def __init__(self, name):\n",
    "        self.name = name\n",
    "    \n",
    "    def eat(self):\n",
    "        print(f\"{self.name} is eating.\")\n",
    "\n",
    "class Dog(Animal):\n",
    "    def bark(self):\n",
    "        print(f\"{self.name} is barking.\")\n",
    "\n",
    "class Cat(Animal):\n",
    "    def meow(self):\n",
    "        print(f\"{self.name} is meowing.\")\n",
    "\n",
    "# Create instances of the derived classes\n",
    "dog = Dog(\"Buddy\")\n",
    "cat = Cat(\"Whiskers\")\n",
    "\n",
    "# Access methods from the base and derived classes\n",
    "dog.eat()\n",
    "dog.bark()\n",
    "\n",
    "cat.eat()\n",
    "cat.meow"
   ]
  },
  {
   "cell_type": "markdown",
   "id": "d37968a8",
   "metadata": {},
   "source": [
    "## Abstract\n",
    "#### Abstraction focuses on the essential characteristics of an object and hides unnecessary details. \n",
    "#### It provides a simplified view of objects and allows complex systems to be built by dividing them into smaller, manageable parts. \n",
    "##### Abstract classes and interfaces are used to define common behaviors and methods that subclasses must implement."
   ]
  },
  {
   "cell_type": "code",
   "execution_count": 84,
   "id": "240346a8",
   "metadata": {},
   "outputs": [],
   "source": [
    "import abc\n",
    "\n",
    "class myskills:\n",
    "    @abc.abstractmethod\n",
    "    \n",
    "    def students_detials(self):\n",
    "        pass\n",
    " \n",
    "    @abc.abstractmethod\n",
    "   \n",
    "    def student_assignemnt(self):\n",
    "        pass\n",
    " \n",
    "    @abc.abstractmethod\n",
    "    \n",
    "    def student_marks(self):\n",
    "        pass"
   ]
  },
  {
   "cell_type": "code",
   "execution_count": 85,
   "id": "d7e5d0c2",
   "metadata": {},
   "outputs": [],
   "source": [
    "class student_detils(myskills):\n",
    "    def students_detials(self):\n",
    "        return \"this is a math for taking students details\"\n",
    " \n",
    "    def student_assignemnt(self):\n",
    "        return \"this is a math for assign details for a perticualt student\""
   ]
  },
  {
   "cell_type": "code",
   "execution_count": 86,
   "id": "f2d04de5",
   "metadata": {},
   "outputs": [],
   "source": [
    "class data_science(myskills):\n",
    "    def students_detials(self):\n",
    "        return \"this will return a student details for data science learner \"\n",
    "    \n",
    "    def student_assignemnt(self):\n",
    "        return \"this will give you a studnt assignment detaild for data science\""
   ]
  },
  {
   "cell_type": "code",
   "execution_count": 87,
   "id": "4cbdf30a",
   "metadata": {},
   "outputs": [
    {
     "data": {
      "text/plain": [
       "'this will return a student details for data science learner '"
      ]
     },
     "execution_count": 87,
     "metadata": {},
     "output_type": "execute_result"
    }
   ],
   "source": [
    "dsm = data_science()\n",
    "dsm.students_detials()"
   ]
  },
  {
   "cell_type": "code",
   "execution_count": 88,
   "id": "66333129",
   "metadata": {},
   "outputs": [
    {
     "data": {
      "text/plain": [
       "'this is a math for taking students details'"
      ]
     },
     "execution_count": 88,
     "metadata": {},
     "output_type": "execute_result"
    }
   ],
   "source": [
    "sd= student_detils()\n",
    "sd.students_detials()"
   ]
  },
  {
   "cell_type": "code",
   "execution_count": 89,
   "id": "fa1efaf9",
   "metadata": {},
   "outputs": [
    {
     "name": "stdout",
     "output_type": "stream",
     "text": [
      "Rectangle Area: 15\n",
      "Rectangle Perimeter: 16\n"
     ]
    }
   ],
   "source": [
    "from abc import ABC, abstractmethod\n",
    "class Shape(ABC):\n",
    "    @abstractmethod\n",
    "\n",
    "    def area(self):\n",
    "        pass\n",
    "    @abstractmethod\n",
    "    \n",
    "    def perimeter(self):\n",
    "        pass\n",
    "\n",
    "class Rectangle(Shape):\n",
    "    def __init__(self, width, height):\n",
    "        self.width = width\n",
    "        self.height = height\n",
    " \n",
    "    def area(self):\n",
    "        return self.width * self.height\n",
    " \n",
    "    def perimeter(self):\n",
    "        return 2 * (self.width + self.height)\n",
    "rectangle = Rectangle(5, 3)\n",
    "print(\"Rectangle Area:\", rectangle.area())\n",
    "print(\"Rectangle Perimeter:\", rectangle.perimeter())"
   ]
  },
  {
   "cell_type": "code",
   "execution_count": 90,
   "id": "229f32be",
   "metadata": {},
   "outputs": [
    {
     "name": "stdout",
     "output_type": "stream",
     "text": [
      "Sending email to sunil@example.com with subject 'Hello':\n",
      "Hello, Sunil!\n",
      "Sending email to rahul@example.com with subject 'Important Update':\n",
      "Important update for Rahul!\n"
     ]
    }
   ],
   "source": [
    "from abc import ABC, abstractmethod\n",
    "\n",
    "class EmailSender(ABC):\n",
    "    @abstractmethod\n",
    "    def send_email(self, recipient, subject, body):\n",
    "        pass\n",
    "\n",
    "class SmtpEmailSender(EmailSender):\n",
    "    def send_email(self, recipient, subject, body):\n",
    "        # Code to send email using SMTP protocol\n",
    "        print(f\"Sending email to {recipient} with subject '{subject}':\\n{body}\")\n",
    "\n",
    "class SendGridEmailSender(EmailSender):\n",
    "    def send_email(self, recipient, subject, body):\n",
    "        # Code to send email using SendGrid API\n",
    "        print(f\"Sending email to {recipient} with subject '{subject}':\\n{body}\")\n",
    "\n",
    "def send_notification(sender, recipient, subject, body):\n",
    "    sender.send_email(recipient, subject, body)\n",
    "\n",
    "smtp_sender = SmtpEmailSender()\n",
    "sendgrid_sender = SendGridEmailSender()\n",
    "\n",
    "send_notification(smtp_sender, \"sunil@example.com\", \"Hello\", \"Hello, Sunil!\")\n",
    "send_notification(sendgrid_sender, \"rahul@example.com\", \"Important Update\", \"Important update for Rahul!\")\n"
   ]
  },
  {
   "cell_type": "markdown",
   "id": "139d3fc0",
   "metadata": {},
   "source": [
    "## Decorator\n",
    "#### decorators in OOP offer a versatile mechanism for modifying, enhancing, and extending the functionality of functions or classes. They promote code modularity, reusability, separation of concerns, and improve code readability and maintainability. By leveraging decorators, you can write more modular, flexible, and scalable code in your object-oriented Python projects."
   ]
  },
  {
   "cell_type": "code",
   "execution_count": 91,
   "id": "573c31de",
   "metadata": {},
   "outputs": [],
   "source": [
    "def test():\n",
    "    print(\"This is the start of my fun\")\n",
    "    print(\"This is my fun to test\")\n",
    "    print(4+5)\n",
    "    print(\"This is the end of my fun\")"
   ]
  },
  {
   "cell_type": "code",
   "execution_count": 92,
   "id": "3ea49530",
   "metadata": {},
   "outputs": [
    {
     "name": "stdout",
     "output_type": "stream",
     "text": [
      "This is the start of my fun\n",
      "This is my fun to test\n",
      "9\n",
      "This is the end of my fun\n"
     ]
    }
   ],
   "source": [
    "test()"
   ]
  },
  {
   "cell_type": "code",
   "execution_count": 93,
   "id": "385d5d8f",
   "metadata": {},
   "outputs": [],
   "source": [
    "def deco(func):\n",
    "    def inner_dec():\n",
    "        print(\"This is the start of my fun\")\n",
    "        func()\n",
    "        print(\"This is the end of my fun\")\n",
    "    return inner_dec"
   ]
  },
  {
   "cell_type": "code",
   "execution_count": 94,
   "id": "2e3ba0c2",
   "metadata": {},
   "outputs": [],
   "source": [
    "@deco\n",
    "def test1():\n",
    "    print(6+7)"
   ]
  },
  {
   "cell_type": "code",
   "execution_count": 95,
   "id": "f81fc3c2",
   "metadata": {},
   "outputs": [
    {
     "name": "stdout",
     "output_type": "stream",
     "text": [
      "This is the start of my fun\n",
      "13\n",
      "This is the end of my fun\n"
     ]
    }
   ],
   "source": [
    "test1()"
   ]
  },
  {
   "cell_type": "code",
   "execution_count": 96,
   "id": "56269dd8",
   "metadata": {},
   "outputs": [],
   "source": [
    "import time\n",
    "def timer_test(func):\n",
    "    def timer_test_inner ():\n",
    "        start = time.time()\n",
    "        func()\n",
    "        end = time.time()\n",
    "        print(end -start)\n",
    "    return timer_test_inner"
   ]
  },
  {
   "cell_type": "code",
   "execution_count": 97,
   "id": "a6a0ca66",
   "metadata": {},
   "outputs": [],
   "source": [
    "def test2():\n",
    "    print(45+78)"
   ]
  },
  {
   "cell_type": "code",
   "execution_count": 98,
   "id": "be15e959",
   "metadata": {},
   "outputs": [
    {
     "name": "stdout",
     "output_type": "stream",
     "text": [
      "123\n"
     ]
    }
   ],
   "source": [
    "test2()"
   ]
  },
  {
   "cell_type": "code",
   "execution_count": 99,
   "id": "e547af14",
   "metadata": {},
   "outputs": [],
   "source": [
    "@timer_test\n",
    "def test2():\n",
    "    print(45+78)"
   ]
  },
  {
   "cell_type": "code",
   "execution_count": 100,
   "id": "367d00a4",
   "metadata": {},
   "outputs": [
    {
     "name": "stdout",
     "output_type": "stream",
     "text": [
      "123\n",
      "0.0010018348693847656\n"
     ]
    }
   ],
   "source": [
    "test2()"
   ]
  },
  {
   "cell_type": "code",
   "execution_count": 101,
   "id": "a5a7872b",
   "metadata": {},
   "outputs": [],
   "source": [
    "@timer_test\n",
    "def test():\n",
    "    for i in range(100000000):\n",
    "        pass"
   ]
  },
  {
   "cell_type": "code",
   "execution_count": 102,
   "id": "5877054c",
   "metadata": {},
   "outputs": [
    {
     "name": "stdout",
     "output_type": "stream",
     "text": [
      "2.75582218170166\n"
     ]
    }
   ],
   "source": [
    "test()"
   ]
  },
  {
   "cell_type": "code",
   "execution_count": 103,
   "id": "ec49f7d9",
   "metadata": {},
   "outputs": [
    {
     "name": "stdout",
     "output_type": "stream",
     "text": [
      "Calling function: add_numbers\n",
      "Function add_numbers executed.\n",
      "8\n"
     ]
    }
   ],
   "source": [
    "def log_decorator(func):\n",
    "    def wrapper(*args, **kwargs):\n",
    "        print(f\"Calling function: {func.__name__}\")\n",
    "        result = func(*args, **kwargs)\n",
    "        print(f\"Function {func.__name__} executed.\")\n",
    "        return result\n",
    "    return wrapper\n",
    "\n",
    "@log_decorator\n",
    "def add_numbers(a, b):\n",
    "    return a + b\n",
    "\n",
    "result = add_numbers(3, 5)\n",
    "print(result) "
   ]
  },
  {
   "cell_type": "code",
   "execution_count": 104,
   "id": "80206808",
   "metadata": {},
   "outputs": [
    {
     "name": "stdout",
     "output_type": "stream",
     "text": [
      "The execution time of factorial was 0.0 seconds\n",
      "The execution time of factorial was 0.00099945068359375 seconds\n",
      "The execution time of factorial was 0.00099945068359375 seconds\n",
      "The execution time of factorial was 0.00099945068359375 seconds\n",
      "The execution time of factorial was 0.00099945068359375 seconds\n",
      "The execution time of factorial was 0.001999378204345703 seconds\n",
      "120\n"
     ]
    }
   ],
   "source": [
    "import time\n",
    "\n",
    "def time_it(func):\n",
    "    def wrapper(*args, **kwargs):\n",
    "        start = time.time()\n",
    "        result = func(*args, **kwargs)\n",
    "        end = time.time()\n",
    "        print(\"The execution time of {} was {} seconds\".format(func.__name__, end - start))\n",
    "        return result\n",
    "    return wrapper\n",
    "\n",
    "@time_it\n",
    "def factorial(n):\n",
    "    if n == 0:\n",
    "        return 1\n",
    "    else:\n",
    "        return n * factorial(n - 1)\n",
    "\n",
    "print(factorial(5))"
   ]
  },
  {
   "cell_type": "markdown",
   "id": "9429ee7d",
   "metadata": {},
   "source": [
    "## Class Methods\n",
    "#### In object-oriented programming (OOP), class methods are special functions that are associated with a class rather than with an instance of the class (an object). Class methods are defined within a class and are typically used to perform operations that are not specific to any particular instance but are relevant to the class as a whole"
   ]
  },
  {
   "cell_type": "code",
   "execution_count": 105,
   "id": "fb817c7b",
   "metadata": {},
   "outputs": [],
   "source": [
    "class myskills :\n",
    "    def __init__(self , name , email):\n",
    "        self.name = name\n",
    "        self.email = email\n",
    " \n",
    "    def students_details(self):\n",
    "        print(self.name , self.email)"
   ]
  },
  {
   "cell_type": "code",
   "execution_count": 106,
   "id": "7a0bee40",
   "metadata": {},
   "outputs": [],
   "source": [
    "ms = myskills(\"sunil\" , \"sunil@gmail.com\")"
   ]
  },
  {
   "cell_type": "code",
   "execution_count": 107,
   "id": "bbcc469b",
   "metadata": {},
   "outputs": [
    {
     "data": {
      "text/plain": [
       "'sunil'"
      ]
     },
     "execution_count": 107,
     "metadata": {},
     "output_type": "execute_result"
    }
   ],
   "source": [
    "ms.name"
   ]
  },
  {
   "cell_type": "code",
   "execution_count": 108,
   "id": "4d2bab1c",
   "metadata": {},
   "outputs": [
    {
     "data": {
      "text/plain": [
       "'sunil@gmail.com'"
      ]
     },
     "execution_count": 108,
     "metadata": {},
     "output_type": "execute_result"
    }
   ],
   "source": [
    "ms.email"
   ]
  },
  {
   "cell_type": "code",
   "execution_count": 109,
   "id": "35474080",
   "metadata": {},
   "outputs": [
    {
     "name": "stdout",
     "output_type": "stream",
     "text": [
      "sunil sunil@gmail.com\n"
     ]
    }
   ],
   "source": [
    "ms.students_details()"
   ]
  },
  {
   "cell_type": "code",
   "execution_count": 110,
   "id": "61f6fb76",
   "metadata": {},
   "outputs": [],
   "source": [
    "class myskills1 :\n",
    "    def __init__(self , name , email):\n",
    "        self.name = name\n",
    "        self.email = email\n",
    "    @classmethod\n",
    " \n",
    "    def details(cls ,name, email):\n",
    "        return cls(name , email)\n",
    " \n",
    "    def students_details(self):\n",
    "        print(self.name , self.email)"
   ]
  },
  {
   "cell_type": "code",
   "execution_count": 111,
   "id": "bed66d65",
   "metadata": {},
   "outputs": [],
   "source": [
    "ms1 = myskills1.details(\"rahul\" , \"rahul@gmail.com\")"
   ]
  },
  {
   "cell_type": "code",
   "execution_count": 112,
   "id": "8b0fbef0",
   "metadata": {},
   "outputs": [
    {
     "data": {
      "text/plain": [
       "<__main__.myskills1 at 0x1f7a9fc5b50>"
      ]
     },
     "execution_count": 112,
     "metadata": {},
     "output_type": "execute_result"
    }
   ],
   "source": [
    "ms1"
   ]
  },
  {
   "cell_type": "code",
   "execution_count": 113,
   "id": "678b3cf8",
   "metadata": {},
   "outputs": [
    {
     "data": {
      "text/plain": [
       "'rahul'"
      ]
     },
     "execution_count": 113,
     "metadata": {},
     "output_type": "execute_result"
    }
   ],
   "source": [
    "ms1.name"
   ]
  },
  {
   "cell_type": "code",
   "execution_count": 114,
   "id": "38be4ee1",
   "metadata": {},
   "outputs": [
    {
     "data": {
      "text/plain": [
       "'rahul@gmail.com'"
      ]
     },
     "execution_count": 114,
     "metadata": {},
     "output_type": "execute_result"
    }
   ],
   "source": [
    "ms1.email"
   ]
  },
  {
   "cell_type": "code",
   "execution_count": 115,
   "id": "6fc15c4f",
   "metadata": {},
   "outputs": [
    {
     "name": "stdout",
     "output_type": "stream",
     "text": [
      "rahul rahul@gmail.com\n"
     ]
    }
   ],
   "source": [
    "ms1.students_details()"
   ]
  },
  {
   "cell_type": "code",
   "execution_count": 116,
   "id": "6577e3a6",
   "metadata": {},
   "outputs": [],
   "source": [
    "class myskills2:\n",
    "    mobile_num = 912342424\n",
    "    \n",
    "    def __init__(self , name , email):\n",
    "        self.name = name\n",
    "        self.email = email\n",
    " \n",
    "    @classmethod\n",
    " \n",
    "    def change_number(cls, mobile):\n",
    "        myskills2.mobile_num = mobile\n",
    " \n",
    "    @classmethod\n",
    " \n",
    "    def details(cls ,name, email ):\n",
    "        return cls(name , email)\n",
    " \n",
    "    def students_details(self):\n",
    "        print(self.name , self.email,myskills2.mobile_num)"
   ]
  },
  {
   "cell_type": "code",
   "execution_count": 117,
   "id": "32bdbc0b",
   "metadata": {},
   "outputs": [],
   "source": [
    "ms2 = myskills2.details(\"santosh\" , \"santosh@gmail.com\")"
   ]
  },
  {
   "cell_type": "code",
   "execution_count": 118,
   "id": "f674a92e",
   "metadata": {},
   "outputs": [
    {
     "name": "stdout",
     "output_type": "stream",
     "text": [
      "santosh santosh@gmail.com 912342424\n"
     ]
    }
   ],
   "source": [
    "ms2.students_details()"
   ]
  },
  {
   "cell_type": "code",
   "execution_count": 119,
   "id": "fb13ae35",
   "metadata": {},
   "outputs": [],
   "source": [
    "ms2_obj = myskills2(\"anil\" , \"anil@gmail.com\")"
   ]
  },
  {
   "cell_type": "code",
   "execution_count": 120,
   "id": "93676dcd",
   "metadata": {},
   "outputs": [
    {
     "name": "stdout",
     "output_type": "stream",
     "text": [
      "anil anil@gmail.com 912342424\n"
     ]
    }
   ],
   "source": [
    "ms2_obj.students_details()"
   ]
  },
  {
   "cell_type": "code",
   "execution_count": 121,
   "id": "a531b06a",
   "metadata": {},
   "outputs": [],
   "source": [
    "myskills2.change_number(924324234)"
   ]
  },
  {
   "cell_type": "code",
   "execution_count": 122,
   "id": "661933a6",
   "metadata": {},
   "outputs": [
    {
     "data": {
      "text/plain": [
       "924324234"
      ]
     },
     "execution_count": 122,
     "metadata": {},
     "output_type": "execute_result"
    }
   ],
   "source": [
    "myskills2.mobile_num"
   ]
  },
  {
   "cell_type": "code",
   "execution_count": 123,
   "id": "0d0aa864",
   "metadata": {},
   "outputs": [],
   "source": [
    "class myskills3:\n",
    "    mobile_num = 912342424\n",
    " \n",
    "    def __init__(self , name , email):\n",
    "        self.name = name\n",
    "        self.email = email\n",
    " \n",
    "    @classmethod\n",
    "    def change_number(cls, mobile):\n",
    "        myskills3.mobile_num = mobile\n",
    " \n",
    "    @classmethod\n",
    "    \n",
    "    def details(cls ,name, email ):\n",
    "        return cls(name , email)\n",
    " \n",
    "    def students_details(self):\n",
    "        print(self.name , self.email,myskills3.mobile_num)"
   ]
  },
  {
   "cell_type": "code",
   "execution_count": 124,
   "id": "9c909e18",
   "metadata": {},
   "outputs": [],
   "source": [
    "def course_details(cls,course_name):\n",
    "    print(\"course name is \" , course_name)"
   ]
  },
  {
   "cell_type": "code",
   "execution_count": 125,
   "id": "9e3efbd2",
   "metadata": {},
   "outputs": [],
   "source": [
    "myskills3.course_details = classmethod(course_details)"
   ]
  },
  {
   "cell_type": "code",
   "execution_count": 126,
   "id": "d48c9dc1",
   "metadata": {},
   "outputs": [
    {
     "name": "stdout",
     "output_type": "stream",
     "text": [
      "course name is  Data Science/ML/AI\n"
     ]
    }
   ],
   "source": [
    "myskills3.course_details(\"Data Science/ML/AI\")"
   ]
  },
  {
   "cell_type": "code",
   "execution_count": 127,
   "id": "a0fe7aca",
   "metadata": {},
   "outputs": [],
   "source": [
    "def mentor(cls , list_of_mentor):\n",
    "    print(list_of_mentor)"
   ]
  },
  {
   "cell_type": "code",
   "execution_count": 128,
   "id": "7fd0d773",
   "metadata": {},
   "outputs": [],
   "source": [
    "myskills3.mentor = classmethod(mentor)"
   ]
  },
  {
   "cell_type": "code",
   "execution_count": 129,
   "id": "6d320ab5",
   "metadata": {},
   "outputs": [
    {
     "name": "stdout",
     "output_type": "stream",
     "text": [
      "['Sunil Zambare ', 'Santosh Bhosale']\n"
     ]
    }
   ],
   "source": [
    "myskills3.mentor([\"Sunil Zambare \" , \"Santosh Bhosale\"])"
   ]
  },
  {
   "cell_type": "code",
   "execution_count": 130,
   "id": "a0b58fb7",
   "metadata": {},
   "outputs": [
    {
     "name": "stdout",
     "output_type": "stream",
     "text": [
      "Ferrari\n",
      "458 Italia\n"
     ]
    }
   ],
   "source": [
    "class Car:\n",
    "    def __init__(self, brand, model):\n",
    "        self.brand = brand\n",
    "        self.model = model\n",
    "    \n",
    "    @classmethod\n",
    "    def create_sports_car(cls, brand, model):\n",
    "        \"\"\"\n",
    "        Class method to create a sports car instance.\n",
    "\n",
    "        Args:\n",
    "            brand (str): The brand of the sports car.\n",
    "            model (str): The model of the sports car.\n",
    "\n",
    "        Returns:\n",
    "            Car: An instance of the Car class representing a sports car.\n",
    "        \"\"\"\n",
    "        # Additional logic to create a sports car instance\n",
    "        return cls(brand, model)\n",
    "\n",
    "# Using the class method to create a sports car\n",
    "sports_car = Car.create_sports_car(\"Ferrari\", \"458 Italia\")\n",
    "print(sports_car.brand)  # Output: Ferrari\n",
    "print(sports_car.model)  # Output: 458 Italia"
   ]
  },
  {
   "cell_type": "code",
   "execution_count": 131,
   "id": "dfb36146",
   "metadata": {},
   "outputs": [
    {
     "name": "stdout",
     "output_type": "stream",
     "text": [
      "The value of PI is: 3.14159\n"
     ]
    }
   ],
   "source": [
    "class Circle:\n",
    "    PI = 3.14159\n",
    "\n",
    "    def __init__(self, radius):\n",
    "        self.radius = radius\n",
    "\n",
    "    def area(self):\n",
    "        return self.PI * (self.radius ** 2)\n",
    "\n",
    "    @classmethod\n",
    "    def print_pi(cls):\n",
    "        \"\"\"\n",
    "        Class method to print the value of PI.\n",
    "\n",
    "        This class method is used to access and print the value of the class-level constant PI.\n",
    "\n",
    "        Args:\n",
    "            cls (type): The class itself.\n",
    "\n",
    "        Returns:\n",
    "            None\n",
    "        \"\"\"\n",
    "        print(\"The value of PI is:\", cls.PI)\n",
    "\n",
    "# Accessing the class-level information using the class method\n",
    "Circle.print_pi()"
   ]
  },
  {
   "cell_type": "markdown",
   "id": "41a5d7b8",
   "metadata": {},
   "source": [
    "## Static method\n",
    "#### In object-oriented programming (OOP), a static method is a special type of method that belongs to a class rather than an instance of theclass. Unlike instance methods or class methods, static methods are not associated with specific object state or class-level state. They are primarily used to define utility functions or perform operations that do not depend on the state of any particular instance or the class itself."
   ]
  },
  {
   "cell_type": "code",
   "execution_count": 132,
   "id": "ff0265fe",
   "metadata": {},
   "outputs": [],
   "source": [
    "class your_skill:\n",
    "    def student_details(self , name , mail_id , number):\n",
    "        print(name , mail_id, number)"
   ]
  },
  {
   "cell_type": "code",
   "execution_count": 133,
   "id": "0d6dca11",
   "metadata": {},
   "outputs": [],
   "source": [
    "ys = your_skill()"
   ]
  },
  {
   "cell_type": "code",
   "execution_count": 134,
   "id": "9295734e",
   "metadata": {},
   "outputs": [
    {
     "name": "stdout",
     "output_type": "stream",
     "text": [
      "sunil sunil@gmail.com 912342342\n"
     ]
    }
   ],
   "source": [
    "ys.student_details(\"sunil\" , \"sunil@gmail.com\" , 912342342)"
   ]
  },
  {
   "cell_type": "code",
   "execution_count": 135,
   "id": "bad60bb5",
   "metadata": {},
   "outputs": [],
   "source": [
    "class my_skill:\n",
    "    def student_details(self , name , mail_id , number):\n",
    "        print(name , mail_id, number)\n",
    "    @staticmethod\n",
    " \n",
    "    def mentor_class(list_mentor):\n",
    "        print(list_mentor)\n",
    " \n",
    "    def mentor(self ,mentor_list):\n",
    "        print(mentor_list)"
   ]
  },
  {
   "cell_type": "code",
   "execution_count": 136,
   "id": "b8a7567a",
   "metadata": {},
   "outputs": [
    {
     "name": "stdout",
     "output_type": "stream",
     "text": [
      "['Sunil', 'Santosh']\n"
     ]
    }
   ],
   "source": [
    "my_skill.mentor_class([\"Sunil\" , \"Santosh\"])"
   ]
  },
  {
   "cell_type": "code",
   "execution_count": 137,
   "id": "883ec3d5",
   "metadata": {},
   "outputs": [],
   "source": [
    "stud1 = my_skill()"
   ]
  },
  {
   "cell_type": "code",
   "execution_count": 138,
   "id": "ff063d45",
   "metadata": {},
   "outputs": [],
   "source": [
    "stud2 = my_skill()"
   ]
  },
  {
   "cell_type": "code",
   "execution_count": 139,
   "id": "a2293f4e",
   "metadata": {},
   "outputs": [],
   "source": [
    "stud3 = my_skill()"
   ]
  },
  {
   "cell_type": "code",
   "execution_count": 140,
   "id": "ca19d985",
   "metadata": {},
   "outputs": [
    {
     "name": "stdout",
     "output_type": "stream",
     "text": [
      "['Sunil', 'Santosh']\n"
     ]
    }
   ],
   "source": [
    "stud1.mentor([\"Sunil\" , \"Santosh\"])"
   ]
  },
  {
   "cell_type": "code",
   "execution_count": 141,
   "id": "56222233",
   "metadata": {},
   "outputs": [],
   "source": [
    "class Our_skill:\n",
    "    def student_details(self , name , mail_id , number):\n",
    "        print(name , mail_id, number)\n",
    " \n",
    "    @staticmethod\n",
    "     \n",
    "    def mentor_mail_id(maild_id_mentor):\n",
    "        print(maild_id_mentor) \n",
    " \n",
    "    @staticmethod\n",
    " \n",
    "    def mentor_class(list_mentor):\n",
    "        Our_skill.mentor_mail_id([\"sunil@gmail.com\" , \"santosh@gmail.com\"])\n",
    "        print(list_mentor)\n",
    " \n",
    "    @classmethod\n",
    " \n",
    "    def class_name(cls):\n",
    "        cls.mentor_class([\"sunil\" , \"santosh\"])\n",
    " \n",
    "    def mentor(self ,mentor_list):\n",
    "        print(mentor_list)\n",
    "        self.mentor_class([\"santosh\" , \"sunil\"])"
   ]
  },
  {
   "cell_type": "code",
   "execution_count": 142,
   "id": "93cc9b16",
   "metadata": {},
   "outputs": [
    {
     "name": "stdout",
     "output_type": "stream",
     "text": [
      "['sunil@gmail.com', 'santosh@gmail.com']\n",
      "['santosh', 'sunil']\n"
     ]
    }
   ],
   "source": [
    "Our_skill.mentor_class([\"santosh\" , \"sunil\"])"
   ]
  },
  {
   "cell_type": "code",
   "execution_count": 143,
   "id": "82937028",
   "metadata": {},
   "outputs": [
    {
     "name": "stdout",
     "output_type": "stream",
     "text": [
      "['sunil@gmail.com', 'santosh@gmail.com']\n",
      "['sunil', 'santosh']\n"
     ]
    }
   ],
   "source": [
    "Our_skill.class_name()"
   ]
  },
  {
   "cell_type": "code",
   "execution_count": 144,
   "id": "29364b6e",
   "metadata": {},
   "outputs": [],
   "source": [
    "osk = Our_skill()"
   ]
  },
  {
   "cell_type": "code",
   "execution_count": 145,
   "id": "d9fd8c6e",
   "metadata": {},
   "outputs": [
    {
     "name": "stdout",
     "output_type": "stream",
     "text": [
      "['santosh', 'sunil']\n",
      "['sunil@gmail.com', 'santosh@gmail.com']\n",
      "['santosh', 'sunil']\n"
     ]
    }
   ],
   "source": [
    "osk.mentor([\"santosh\" , \"sunil\"])"
   ]
  },
  {
   "cell_type": "code",
   "execution_count": 146,
   "id": "5968406e",
   "metadata": {},
   "outputs": [
    {
     "name": "stdout",
     "output_type": "stream",
     "text": [
      "!dlroW ,olleH\n"
     ]
    }
   ],
   "source": [
    "class StringUtils:\n",
    "    @staticmethod\n",
    "    \n",
    "    def reverse_string(string):\n",
    "        return string[::-1]\n",
    "\n",
    "# Using the static method to reverse a string\n",
    "reversed_string = StringUtils.reverse_string(\"Hello, World!\")\n",
    "print(reversed_string) "
   ]
  },
  {
   "cell_type": "code",
   "execution_count": 147,
   "id": "a49e5690",
   "metadata": {},
   "outputs": [
    {
     "name": "stdout",
     "output_type": "stream",
     "text": [
      "86.0\n",
      "30.0\n"
     ]
    }
   ],
   "source": [
    "class TemperatureConverter:\n",
    "    @staticmethod\n",
    "    def celsius_to_fahrenheit(celsius):\n",
    "        \"\"\"\n",
    "        Static method to convert temperature from Celsius to Fahrenheit.\n",
    "\n",
    "        Args:\n",
    "            celsius (float): Temperature in Celsius.\n",
    "\n",
    "        Returns:\n",
    "            float: Temperature converted to Fahrenheit.\n",
    "        \"\"\"\n",
    "        return (celsius * 9/5) + 32\n",
    "\n",
    "    @staticmethod\n",
    "    def fahrenheit_to_celsius(fahrenheit):\n",
    "        \"\"\"\n",
    "        Static method to convert temperature from Fahrenheit to Celsius.\n",
    "\n",
    "        Args:\n",
    "            fahrenheit (float): Temperature in Fahrenheit.\n",
    "\n",
    "        Returns:\n",
    "            float: Temperature converted to Celsius.\n",
    "        \"\"\"\n",
    "        return (fahrenheit - 32) * 5/9\n",
    "\n",
    "# Using the static methods for temperature conversion\n",
    "celsius_temperature = 30\n",
    "fahrenheit_temperature = TemperatureConverter.celsius_to_fahrenheit(celsius_temperature)\n",
    "print(fahrenheit_temperature)  # Output: 86.0\n",
    "\n",
    "converted_celsius_temperature = TemperatureConverter.fahrenheit_to_celsius(fahrenheit_temperature)\n",
    "print(converted_celsius_temperature)  # Output: 30.0"
   ]
  },
  {
   "cell_type": "markdown",
   "id": "081c8573",
   "metadata": {},
   "source": [
    "### Special (Magic or Dunder) Methods\n",
    "In object-oriented programming (OOP), special methods, also known as magic methods or dunder (double underscore) methods,  are predefined methods with specific names enclosed in double underscores. These methods provide a way to define behavior for built-in language operations or operations that can be customized for classes. By implementing these special\n",
    "methods, you can make your classes behave like built-in types or customize their behavior for specific operations.\n",
    "some key characteristics and features of special methods:\n",
    "#### 1. Naming Convention: Special methods are named with double underscores before and after the method name, such as init, str, len, etc.\n",
    "#### 2. Automatic Invocation: Special methods are automatically invoked by the interpreter in response to specific language operations or operations on objects of the class.\n",
    "#### 3. Customizing Object Creation and Initialization: init(self, ...) - The constructor method that is called when an object is created. It allows initializing the object's state and performing any setup operations.\n",
    "#### 4. String Representation and Printing: str(self) - Returns a string representation of the object. It is used by the str() function and print() statement. repr(self) - Returns a stringrepresentation of the object that should ideally be unambiguous and can be used to recreate the object. It is used by the repr() function and for displaying the object in interactive mode.\n",
    "#### 5. Accessing and Modifying Object Attributes: getattr(self, name) - Called when an attribute lookup fails. It allows defining custom behavior for accessing attributes that are not found. setattr(self, name, value) - Called when an attribute assignment is made. It allows defining custom behavior for setting attributes. delattr(self, name) - Called when an attribute deletion is requested. It allows defining custom behavior for attribute deletion.\n",
    "#### 6. Operator Overloading: Arithmetic Operators: add(self, other), sub(self, other), mul(self, other), div(self, other), etc. Comparison Operators: lt(self, other), gt(self, other), eq(self, other), etc. Other Operators: len(self), getitem(self, index), setitem(self, index, value), etc.\n",
    "#### 7. Controlling Iteration: iter(self) - Returns an iterator object for the class. It allows controlling the behavior of the object in a loop. next(self) - Used in conjunction with iter() to define the iteration process. It returns the next value in the iteration.\n",
    "#### 8. Object Destruction: del(self) - Called when an object is about to be destroyed and memory is deallocated. It allows performing any necessary cleanup operations. Special methods provide a way to customize the behavior of classes and objects to better align with the desired functionality or to make them compatible with built-in language operations. By implementing these special methods, you can make your classes more intuitive, expressive, and flexible enabling them to interact seamlessly with the language and other objects"
   ]
  },
  {
   "cell_type": "code",
   "execution_count": 148,
   "id": "561d6192",
   "metadata": {},
   "outputs": [
    {
     "data": {
      "text/plain": [
       "['__abs__',\n",
       " '__add__',\n",
       " '__and__',\n",
       " '__bool__',\n",
       " '__ceil__',\n",
       " '__class__',\n",
       " '__delattr__',\n",
       " '__dir__',\n",
       " '__divmod__',\n",
       " '__doc__',\n",
       " '__eq__',\n",
       " '__float__',\n",
       " '__floor__',\n",
       " '__floordiv__',\n",
       " '__format__',\n",
       " '__ge__',\n",
       " '__getattribute__',\n",
       " '__getnewargs__',\n",
       " '__gt__',\n",
       " '__hash__',\n",
       " '__index__',\n",
       " '__init__',\n",
       " '__init_subclass__',\n",
       " '__int__',\n",
       " '__invert__',\n",
       " '__le__',\n",
       " '__lshift__',\n",
       " '__lt__',\n",
       " '__mod__',\n",
       " '__mul__',\n",
       " '__ne__',\n",
       " '__neg__',\n",
       " '__new__',\n",
       " '__or__',\n",
       " '__pos__',\n",
       " '__pow__',\n",
       " '__radd__',\n",
       " '__rand__',\n",
       " '__rdivmod__',\n",
       " '__reduce__',\n",
       " '__reduce_ex__',\n",
       " '__repr__',\n",
       " '__rfloordiv__',\n",
       " '__rlshift__',\n",
       " '__rmod__',\n",
       " '__rmul__',\n",
       " '__ror__',\n",
       " '__round__',\n",
       " '__rpow__',\n",
       " '__rrshift__',\n",
       " '__rshift__',\n",
       " '__rsub__',\n",
       " '__rtruediv__',\n",
       " '__rxor__',\n",
       " '__setattr__',\n",
       " '__sizeof__',\n",
       " '__str__',\n",
       " '__sub__',\n",
       " '__subclasshook__',\n",
       " '__truediv__',\n",
       " '__trunc__',\n",
       " '__xor__',\n",
       " 'as_integer_ratio',\n",
       " 'bit_length',\n",
       " 'conjugate',\n",
       " 'denominator',\n",
       " 'from_bytes',\n",
       " 'imag',\n",
       " 'numerator',\n",
       " 'real',\n",
       " 'to_bytes']"
      ]
     },
     "execution_count": 148,
     "metadata": {},
     "output_type": "execute_result"
    }
   ],
   "source": [
    "dir(int)"
   ]
  },
  {
   "cell_type": "code",
   "execution_count": 149,
   "id": "1c9787af",
   "metadata": {},
   "outputs": [
    {
     "data": {
      "text/plain": [
       "['__add__',\n",
       " '__class__',\n",
       " '__contains__',\n",
       " '__delattr__',\n",
       " '__dir__',\n",
       " '__doc__',\n",
       " '__eq__',\n",
       " '__format__',\n",
       " '__ge__',\n",
       " '__getattribute__',\n",
       " '__getitem__',\n",
       " '__getnewargs__',\n",
       " '__gt__',\n",
       " '__hash__',\n",
       " '__init__',\n",
       " '__init_subclass__',\n",
       " '__iter__',\n",
       " '__le__',\n",
       " '__len__',\n",
       " '__lt__',\n",
       " '__mod__',\n",
       " '__mul__',\n",
       " '__ne__',\n",
       " '__new__',\n",
       " '__reduce__',\n",
       " '__reduce_ex__',\n",
       " '__repr__',\n",
       " '__rmod__',\n",
       " '__rmul__',\n",
       " '__setattr__',\n",
       " '__sizeof__',\n",
       " '__str__',\n",
       " '__subclasshook__',\n",
       " 'capitalize',\n",
       " 'casefold',\n",
       " 'center',\n",
       " 'count',\n",
       " 'encode',\n",
       " 'endswith',\n",
       " 'expandtabs',\n",
       " 'find',\n",
       " 'format',\n",
       " 'format_map',\n",
       " 'index',\n",
       " 'isalnum',\n",
       " 'isalpha',\n",
       " 'isascii',\n",
       " 'isdecimal',\n",
       " 'isdigit',\n",
       " 'isidentifier',\n",
       " 'islower',\n",
       " 'isnumeric',\n",
       " 'isprintable',\n",
       " 'isspace',\n",
       " 'istitle',\n",
       " 'isupper',\n",
       " 'join',\n",
       " 'ljust',\n",
       " 'lower',\n",
       " 'lstrip',\n",
       " 'maketrans',\n",
       " 'partition',\n",
       " 'removeprefix',\n",
       " 'removesuffix',\n",
       " 'replace',\n",
       " 'rfind',\n",
       " 'rindex',\n",
       " 'rjust',\n",
       " 'rpartition',\n",
       " 'rsplit',\n",
       " 'rstrip',\n",
       " 'split',\n",
       " 'splitlines',\n",
       " 'startswith',\n",
       " 'strip',\n",
       " 'swapcase',\n",
       " 'title',\n",
       " 'translate',\n",
       " 'upper',\n",
       " 'zfill']"
      ]
     },
     "execution_count": 149,
     "metadata": {},
     "output_type": "execute_result"
    }
   ],
   "source": [
    "dir(str)"
   ]
  },
  {
   "cell_type": "code",
   "execution_count": 150,
   "id": "c9a7732b",
   "metadata": {},
   "outputs": [],
   "source": [
    "a = 200"
   ]
  },
  {
   "cell_type": "code",
   "execution_count": 151,
   "id": "a1d28c78",
   "metadata": {},
   "outputs": [
    {
     "data": {
      "text/plain": [
       "225"
      ]
     },
     "execution_count": 151,
     "metadata": {},
     "output_type": "execute_result"
    }
   ],
   "source": [
    "a + 25"
   ]
  },
  {
   "cell_type": "code",
   "execution_count": 152,
   "id": "38d86983",
   "metadata": {},
   "outputs": [
    {
     "data": {
      "text/plain": [
       "225"
      ]
     },
     "execution_count": 152,
     "metadata": {},
     "output_type": "execute_result"
    }
   ],
   "source": [
    "a.__add__(25)"
   ]
  },
  {
   "cell_type": "code",
   "execution_count": 153,
   "id": "0c59ef66",
   "metadata": {},
   "outputs": [],
   "source": [
    "class magic_method:\n",
    "    def __new__(cls):\n",
    "        print(\"This is my new\")\n",
    "        return super().__new__(cls)\n",
    " \n",
    "    def __init__(self):\n",
    "        print(\"This is my init\")\n",
    "        self.mobile_number = 92234242"
   ]
  },
  {
   "cell_type": "code",
   "execution_count": 154,
   "id": "b76819b9",
   "metadata": {},
   "outputs": [
    {
     "name": "stdout",
     "output_type": "stream",
     "text": [
      "This is my new\n",
      "This is my init\n"
     ]
    }
   ],
   "source": [
    "mm = magic_method()"
   ]
  },
  {
   "cell_type": "code",
   "execution_count": 155,
   "id": "0c115948",
   "metadata": {},
   "outputs": [
    {
     "name": "stdout",
     "output_type": "stream",
     "text": [
      "92234242\n"
     ]
    }
   ],
   "source": [
    "print(mm.mobile_number)"
   ]
  },
  {
   "cell_type": "code",
   "execution_count": 156,
   "id": "cbcdc979",
   "metadata": {},
   "outputs": [],
   "source": [
    "class myskill:\n",
    "    def __init__(self):\n",
    "        self.mobile_number = 92234242\n",
    "    \n",
    "    def __str__(self):\n",
    "        return \"this is my magic call of str\""
   ]
  },
  {
   "cell_type": "code",
   "execution_count": 157,
   "id": "1ddcee47",
   "metadata": {},
   "outputs": [],
   "source": [
    "ms = myskill()"
   ]
  },
  {
   "cell_type": "code",
   "execution_count": 158,
   "id": "32f07ad8",
   "metadata": {},
   "outputs": [
    {
     "data": {
      "text/plain": [
       "<__main__.myskill at 0x1f7a9ffc250>"
      ]
     },
     "execution_count": 158,
     "metadata": {},
     "output_type": "execute_result"
    }
   ],
   "source": [
    "ms"
   ]
  },
  {
   "cell_type": "code",
   "execution_count": 159,
   "id": "001f8b38",
   "metadata": {},
   "outputs": [
    {
     "name": "stdout",
     "output_type": "stream",
     "text": [
      "this is my magic call of str\n"
     ]
    }
   ],
   "source": [
    "print(ms)"
   ]
  },
  {
   "cell_type": "code",
   "execution_count": 160,
   "id": "40f3d337",
   "metadata": {},
   "outputs": [
    {
     "name": "stdout",
     "output_type": "stream",
     "text": [
      "Book: Wings of fire by Dr.APJ Abdul Kalam\n"
     ]
    }
   ],
   "source": [
    "class Book:\n",
    "    def __init__(self, title, author):\n",
    "        self.title = title\n",
    "        self.author = author\n",
    " \n",
    "    def __str__(self):\n",
    "        return f\"Book: {self.title} by {self.author}\"\n",
    "\n",
    "book = Book(\"Wings of fire\", \"Dr.APJ Abdul Kalam\")\n",
    "print(book) "
   ]
  },
  {
   "cell_type": "markdown",
   "id": "f12101c1",
   "metadata": {},
   "source": [
    "## Property Decorators - Getters, Setters, And Deletes\n",
    "#### In object-oriented programming (OOP), property decorators are a way to define and customize the access and modification of class attributes. They allow you to encapsulate attribute access logic, such as validation or computation, within special methods known as getters, setters, and deleters. Property decorators provide an elegant and controlled way to manage attribute access and modification, promoting encapsulation and maintaining data integrity.\n",
    "\n",
    "### Three types of property decorators commonly used in OOP:\n",
    "#### 1. Getter Methods: Getter methods, also known as accessor methods, allow you to define the logic forretrieving the value of an attribute. They are decorated with @property and are accessed like regular attributes.Getter methods provide a way to perform additional computations, validations, or transformations on the attribute value before returning it.Getter methods have the same name as the attribute they are associated with."
   ]
  },
  {
   "cell_type": "code",
   "execution_count": 161,
   "id": "f235a92e",
   "metadata": {},
   "outputs": [],
   "source": [
    "class MyClass:\n",
    "    def __init__(self):\n",
    "        self._my_attribute = None\n",
    "    @property\n",
    "    \n",
    "    def my_attribute(self):\n",
    "        # Additional logic if needed\n",
    "         return self._my_attribute"
   ]
  },
  {
   "cell_type": "code",
   "execution_count": 162,
   "id": "46e1b742",
   "metadata": {},
   "outputs": [],
   "source": [
    "# Creating an instance of MyClass\n",
    "obj = MyClass()"
   ]
  },
  {
   "cell_type": "code",
   "execution_count": 163,
   "id": "98015362",
   "metadata": {},
   "outputs": [
    {
     "name": "stdout",
     "output_type": "stream",
     "text": [
      "None\n"
     ]
    }
   ],
   "source": [
    "value = obj.my_attribute\n",
    "print(value)"
   ]
  },
  {
   "cell_type": "markdown",
   "id": "7797f128",
   "metadata": {},
   "source": [
    "## Setter Methods:\n",
    "#### Setter methods, also known as mutator methods, allow you to define the logic for assigning a new value to an attribute. They are decorated with @.setter and are used as if assigning a value to a regular attribute. Setter methods provide a way to enforce validation rules or perform additional operations when assigning a new value to the attribute. Setter methods have the same name as the attribute they are associated with, followed by .setter"
   ]
  },
  {
   "cell_type": "code",
   "execution_count": 164,
   "id": "76ca16a4",
   "metadata": {},
   "outputs": [],
   "source": [
    "class MyClass:\n",
    "    def __init__(self):\n",
    "        self._my_attribute = None\n",
    "    @property\n",
    " \n",
    "    def my_attribute(self):\n",
    "        return self._my_attribute\n",
    " \n",
    "    @my_attribute.setter\n",
    " \n",
    "    def my_attribute(self, value):\n",
    "        # Additional logic if needed\n",
    "        self._my_attribute = value"
   ]
  },
  {
   "cell_type": "code",
   "execution_count": 165,
   "id": "e445ba49",
   "metadata": {},
   "outputs": [],
   "source": [
    "# Creating an instance of MyClass\n",
    "obj = MyClass()"
   ]
  },
  {
   "cell_type": "code",
   "execution_count": 166,
   "id": "be1f031b",
   "metadata": {},
   "outputs": [
    {
     "name": "stdout",
     "output_type": "stream",
     "text": [
      "None\n"
     ]
    }
   ],
   "source": [
    "# Accessing the my_attribute using the getter\n",
    "value = obj.my_attribute\n",
    "print(value)"
   ]
  },
  {
   "cell_type": "code",
   "execution_count": 167,
   "id": "7b73fc2f",
   "metadata": {},
   "outputs": [],
   "source": [
    "# Setting the my_attribute using the setter\n",
    "obj.my_attribute = \"Hello, World!\""
   ]
  },
  {
   "cell_type": "code",
   "execution_count": 168,
   "id": "3d741edc",
   "metadata": {},
   "outputs": [
    {
     "name": "stdout",
     "output_type": "stream",
     "text": [
      "Hello, World!\n"
     ]
    }
   ],
   "source": [
    "print(obj.my_attribute) "
   ]
  },
  {
   "cell_type": "code",
   "execution_count": 169,
   "id": "d57efaf8",
   "metadata": {},
   "outputs": [
    {
     "ename": "AttributeError",
     "evalue": "can't delete attribute",
     "output_type": "error",
     "traceback": [
      "\u001b[1;31m---------------------------------------------------------------------------\u001b[0m",
      "\u001b[1;31mAttributeError\u001b[0m                            Traceback (most recent call last)",
      "Cell \u001b[1;32mIn[169], line 2\u001b[0m\n\u001b[0;32m      1\u001b[0m \u001b[38;5;66;03m# Deleting the my_attribute\u001b[39;00m\n\u001b[1;32m----> 2\u001b[0m \u001b[38;5;28;01mdel\u001b[39;00m obj\u001b[38;5;241m.\u001b[39mmy_attribute\n",
      "\u001b[1;31mAttributeError\u001b[0m: can't delete attribute"
     ]
    }
   ],
   "source": [
    "# Deleting the my_attribute\n",
    "del obj.my_attribute"
   ]
  },
  {
   "cell_type": "code",
   "execution_count": 170,
   "id": "79b60e8a",
   "metadata": {},
   "outputs": [
    {
     "name": "stdout",
     "output_type": "stream",
     "text": [
      "Hello, World!\n"
     ]
    }
   ],
   "source": [
    "# Accessing the my_attribute after deletion\n",
    "print(obj.my_attribute)"
   ]
  },
  {
   "cell_type": "code",
   "execution_count": 171,
   "id": "e414f2c9",
   "metadata": {},
   "outputs": [],
   "source": [
    "class data_skills:\n",
    "    def __init__(self , course_price , coruse_name):\n",
    "        self.__course_price = course_price\n",
    "        self.course_name = coruse_name\n",
    " \n",
    "    @property\n",
    "    \n",
    "    def course_price_access(self):\n",
    "        return self.__course_price\n",
    " \n",
    "    @course_price_access.setter\n",
    "    \n",
    "    def course_price_set(self , price ):\n",
    "        if price <= 3500:\n",
    "            pass\n",
    "        else :\n",
    "            self.__course_price = price\n",
    " \n",
    "    @course_price_access.deleter\n",
    " \n",
    "    def delete_course_price(self):\n",
    "        del self.__course_price"
   ]
  },
  {
   "cell_type": "code",
   "execution_count": 172,
   "id": "d7422f83",
   "metadata": {},
   "outputs": [],
   "source": [
    "ds = data_skills(35000 , \"data science masters\")"
   ]
  },
  {
   "cell_type": "code",
   "execution_count": 173,
   "id": "11fcf96f",
   "metadata": {},
   "outputs": [
    {
     "data": {
      "text/plain": [
       "35000"
      ]
     },
     "execution_count": 173,
     "metadata": {},
     "output_type": "execute_result"
    }
   ],
   "source": [
    "ds.course_price_access"
   ]
  },
  {
   "cell_type": "code",
   "execution_count": 174,
   "id": "869a32d7",
   "metadata": {},
   "outputs": [],
   "source": [
    "del ds.delete_course_price"
   ]
  },
  {
   "cell_type": "code",
   "execution_count": 175,
   "id": "0e248659",
   "metadata": {},
   "outputs": [
    {
     "ename": "AttributeError",
     "evalue": "'data_skills' object has no attribute '_data_skills__course_price'",
     "output_type": "error",
     "traceback": [
      "\u001b[1;31m---------------------------------------------------------------------------\u001b[0m",
      "\u001b[1;31mAttributeError\u001b[0m                            Traceback (most recent call last)",
      "Cell \u001b[1;32mIn[175], line 1\u001b[0m\n\u001b[1;32m----> 1\u001b[0m \u001b[43mds\u001b[49m\u001b[38;5;241;43m.\u001b[39;49m\u001b[43mcourse_price_access\u001b[49m\n",
      "Cell \u001b[1;32mIn[171], line 9\u001b[0m, in \u001b[0;36mdata_skills.course_price_access\u001b[1;34m(self)\u001b[0m\n\u001b[0;32m      6\u001b[0m \u001b[38;5;129m@property\u001b[39m\n\u001b[0;32m      7\u001b[0m \n\u001b[0;32m      8\u001b[0m \u001b[38;5;28;01mdef\u001b[39;00m \u001b[38;5;21mcourse_price_access\u001b[39m(\u001b[38;5;28mself\u001b[39m):\n\u001b[1;32m----> 9\u001b[0m     \u001b[38;5;28;01mreturn\u001b[39;00m \u001b[38;5;28;43mself\u001b[39;49m\u001b[38;5;241;43m.\u001b[39;49m\u001b[43m__course_price\u001b[49m\n",
      "\u001b[1;31mAttributeError\u001b[0m: 'data_skills' object has no attribute '_data_skills__course_price'"
     ]
    }
   ],
   "source": [
    "ds.course_price_access"
   ]
  },
  {
   "cell_type": "code",
   "execution_count": 176,
   "id": "82231a30",
   "metadata": {},
   "outputs": [],
   "source": [
    "ds.course_price_set = 45000"
   ]
  },
  {
   "cell_type": "code",
   "execution_count": 177,
   "id": "5e7ce555",
   "metadata": {},
   "outputs": [
    {
     "data": {
      "text/plain": [
       "45000"
      ]
     },
     "execution_count": 177,
     "metadata": {},
     "output_type": "execute_result"
    }
   ],
   "source": [
    "ds.course_price_access"
   ]
  },
  {
   "cell_type": "code",
   "execution_count": 178,
   "id": "ba4e9ae4",
   "metadata": {},
   "outputs": [
    {
     "data": {
      "text/plain": [
       "45000"
      ]
     },
     "execution_count": 178,
     "metadata": {},
     "output_type": "execute_result"
    }
   ],
   "source": [
    "ds._data_skills__course_price"
   ]
  },
  {
   "cell_type": "code",
   "execution_count": 179,
   "id": "6a249f3f",
   "metadata": {},
   "outputs": [
    {
     "data": {
      "text/plain": [
       "'data science masters'"
      ]
     },
     "execution_count": 179,
     "metadata": {},
     "output_type": "execute_result"
    }
   ],
   "source": [
    "ds.course_name"
   ]
  }
 ],
 "metadata": {
  "kernelspec": {
   "display_name": "Python 3 (ipykernel)",
   "language": "python",
   "name": "python3"
  },
  "language_info": {
   "codemirror_mode": {
    "name": "ipython",
    "version": 3
   },
   "file_extension": ".py",
   "mimetype": "text/x-python",
   "name": "python",
   "nbconvert_exporter": "python",
   "pygments_lexer": "ipython3",
   "version": "3.9.12"
  }
 },
 "nbformat": 4,
 "nbformat_minor": 5
}
