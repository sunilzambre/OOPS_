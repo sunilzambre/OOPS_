{
 "cells": [
  {
   "cell_type": "markdown",
   "id": "79c7227e",
   "metadata": {},
   "source": [
    "### Polymorphism is important concept of object-oriented programming. It simply means more than one form.\n",
    "- The same entity (method or operator or object) can perform different operations in different scenarios."
   ]
  },
  {
   "cell_type": "code",
   "execution_count": 1,
   "id": "d769a061",
   "metadata": {},
   "outputs": [
    {
     "name": "stdout",
     "output_type": "stream",
     "text": [
      "Area of shape: 50\n",
      "Area of shape: 153.86\n"
     ]
    }
   ],
   "source": [
    "class Shape:\n",
    "    def area(self):\n",
    "        pass\n",
    "\n",
    "class Rectangle(Shape):\n",
    "    def __init__(self, width, height):\n",
    "        self.width = width\n",
    "        self.height = height\n",
    "\n",
    "    def area(self):\n",
    "        return self.width * self.height\n",
    "\n",
    "class Circle(Shape):\n",
    "    def __init__(self, radius):\n",
    "        self.radius = radius\n",
    "\n",
    "    def area(self):\n",
    "        return 3.14 * self.radius * self.radius\n",
    "\n",
    "# Main code\n",
    "rectangle = Rectangle(5, 10)\n",
    "circle = Circle(7)\n",
    "\n",
    "shapes = [rectangle, circle]\n",
    "\n",
    "for shape in shapes:\n",
    "    print(f\"Area of shape: {shape.area()}\")"
   ]
  },
  {
   "cell_type": "code",
   "execution_count": 2,
   "id": "44348838",
   "metadata": {},
   "outputs": [
    {
     "name": "stdout",
     "output_type": "stream",
     "text": [
      "Buddy says: Woof!\n",
      "Whiskers says: Meow!\n",
      "Bessie says: Moo!\n"
     ]
    }
   ],
   "source": [
    "class Animal:\n",
    "    def __init__(self, name):\n",
    "        self.name = name\n",
    "\n",
    "    def make_sound(self):\n",
    "        pass\n",
    "\n",
    "class Dog(Animal):\n",
    "    def make_sound(self):\n",
    "        return \"Woof!\"\n",
    "\n",
    "class Cat(Animal):\n",
    "    def make_sound(self):\n",
    "        return \"Meow!\"\n",
    "\n",
    "class Cow(Animal):\n",
    "    def make_sound(self):\n",
    "        return \"Moo!\"\n",
    "\n",
    "# Main code\n",
    "dog = Dog(\"Buddy\")\n",
    "cat = Cat(\"Whiskers\")\n",
    "cow = Cow(\"Bessie\")\n",
    "\n",
    "animals = [dog, cat, cow]\n",
    "\n",
    "for animal in animals:\n",
    "    print(f\"{animal.name} says: {animal.make_sound()}\")"
   ]
  },
  {
   "cell_type": "code",
   "execution_count": 3,
   "id": "49e5a785",
   "metadata": {},
   "outputs": [
    {
     "name": "stdout",
     "output_type": "stream",
     "text": [
      "Rendering Square...\n",
      "Rendering Circle...\n"
     ]
    }
   ],
   "source": [
    "class Polygon:\n",
    "    # method to render a shape\n",
    "    def render(self):\n",
    "        print(\"Rendering Polygon...\")\n",
    "\n",
    "class Square(Polygon):\n",
    "    # renders Square\n",
    "    def render(self):\n",
    "        print(\"Rendering Square...\")\n",
    "\n",
    "class Circle(Polygon):\n",
    "    # renders circle\n",
    "    def render(self):\n",
    "        print(\"Rendering Circle...\")\n",
    "    \n",
    "# create an object of Square\n",
    "s1 = Square()\n",
    "s1.render()\n",
    "\n",
    "# create an object of Circle\n",
    "c1 = Circle()\n",
    "c1.render()"
   ]
  },
  {
   "cell_type": "code",
   "execution_count": 4,
   "id": "0eb4be9f",
   "metadata": {},
   "outputs": [
    {
     "name": "stdout",
     "output_type": "stream",
     "text": [
      "Driving a car\n",
      "Riding a bike\n"
     ]
    }
   ],
   "source": [
    "class Vehicle:\n",
    "    def __init__(self, brand):\n",
    "        self.brand = brand\n",
    "\n",
    "    def drive(self):\n",
    "        pass\n",
    "\n",
    "class Car(Vehicle):\n",
    "    def drive(self):\n",
    "        return \"Driving a car\"\n",
    "\n",
    "class Bike(Vehicle):\n",
    "    def drive(self):\n",
    "        return \"Riding a bike\"\n",
    "\n",
    "def test_drive(vehicle):\n",
    "    print(vehicle.drive())\n",
    "\n",
    "car = Car(\"Toyota\")\n",
    "bike = Bike(\"Honda\")\n",
    "\n",
    "test_drive(car)\n",
    "test_drive(bike)"
   ]
  },
  {
   "cell_type": "markdown",
   "id": "680cb45b",
   "metadata": {},
   "source": [
    "## Print Odd Numbers using polymorphism "
   ]
  },
  {
   "cell_type": "code",
   "execution_count": 5,
   "id": "e57bffb4",
   "metadata": {},
   "outputs": [
    {
     "name": "stdout",
     "output_type": "stream",
     "text": [
      "Simple Odd Numbers: [1, 3, 5, 7, 9]\n",
      "Advanced Odd Numbers: [1, 3, 5, 7, 9]\n"
     ]
    }
   ],
   "source": [
    "class OddNum:\n",
    "    def generate_num(self, n):\n",
    "        pass\n",
    "\n",
    "class SimpleOddNum(OddNum):\n",
    "    def generate_num(self, n):\n",
    "        odd_numbers = []\n",
    "        for num in range(1, n+1):\n",
    "            if num % 2 != 0:\n",
    "                odd_numbers.append(num)\n",
    "        return odd_numbers\n",
    "\n",
    "class AdvanceOddNum(OddNum):\n",
    "    def generate_num(self, n):\n",
    "        return list(range(1, n+1, 2))\n",
    "\n",
    "# example\n",
    "n = 10\n",
    "\n",
    "simple_generator = SimpleOddNum()\n",
    "simple_odd_numbers = simple_generator.generate_num(n)\n",
    "print(\"Simple Odd Numbers:\", simple_odd_numbers)\n",
    "\n",
    "advanced_generator = AdvanceOddNum()\n",
    "advanced_odd_numbers = advanced_generator.generate_num(n)\n",
    "print(\"Advanced Odd Numbers:\", advanced_odd_numbers)"
   ]
  },
  {
   "cell_type": "code",
   "execution_count": 6,
   "id": "49ab3b2c",
   "metadata": {},
   "outputs": [
    {
     "name": "stdout",
     "output_type": "stream",
     "text": [
      "Even Numbers: [2, 4, 6, 8, 10, 12, 14, 16, 18, 20]\n"
     ]
    }
   ],
   "source": [
    "class EvenNum:\n",
    "    def __init__(self, limit):\n",
    "        self.limit = limit\n",
    "\n",
    "    def gen_num(self):\n",
    "        even_numbers = []\n",
    "        for num in range(1, self.limit + 1):\n",
    "            if num % 2 == 0:\n",
    "                even_numbers.append(num)\n",
    "        return even_numbers\n",
    "\n",
    "\n",
    "# Usage example\n",
    "limit = 20\n",
    "\n",
    "generator = EvenNum(limit)\n",
    "even_numbers = generator.gen_num()\n",
    "print(\"Even Numbers:\", even_numbers)"
   ]
  },
  {
   "cell_type": "code",
   "execution_count": 7,
   "id": "6e6b5b38",
   "metadata": {},
   "outputs": [
    {
     "name": "stdout",
     "output_type": "stream",
     "text": [
      "Prime Numbers: [2, 3, 5, 7, 11, 13, 17, 19, 23, 29, 31, 37, 41, 43, 47]\n"
     ]
    }
   ],
   "source": [
    "class PrimeNum:\n",
    "    def __init__(self, limit):\n",
    "        self.limit = limit\n",
    "\n",
    "    def gen_num(self):\n",
    "        prime_numbers = []\n",
    "        for num in range(2, self.limit + 1):\n",
    "            if self.is_prime(num):\n",
    "                prime_numbers.append(num)\n",
    "        return prime_numbers\n",
    "\n",
    "    def is_prime(self, num):\n",
    "        if num < 2:\n",
    "            return False\n",
    "        for i in range(2, int(num ** 0.5) + 1):\n",
    "            if num % i == 0:\n",
    "                return False\n",
    "        return True\n",
    "\n",
    "\n",
    "# Usage example\n",
    "limit = 50\n",
    "\n",
    "generator = PrimeNum(limit)\n",
    "prime_numbers = generator.gen_num()\n",
    "print(\"Prime Numbers:\", prime_numbers)"
   ]
  },
  {
   "cell_type": "code",
   "execution_count": 8,
   "id": "df0e1d06",
   "metadata": {},
   "outputs": [
    {
     "name": "stdout",
     "output_type": "stream",
     "text": [
      "The factorial of 5 is: 120\n"
     ]
    }
   ],
   "source": [
    "class FactNum:\n",
    "    def __init__(self, number):\n",
    "        self.number = number\n",
    "\n",
    "    def calc_fact(self):\n",
    "        fact = 1\n",
    "        for num in range(1, self.number + 1):\n",
    "            fact *= num\n",
    "        return fact\n",
    "\n",
    "\n",
    "# Usage example\n",
    "number = 5\n",
    "\n",
    "calculator = FactNum(number)\n",
    "fact_result = calculator.calc_fact()\n",
    "print(f\"The factorial of {number} is: {fact_result}\")"
   ]
  },
  {
   "cell_type": "code",
   "execution_count": 9,
   "id": "1e47b57e",
   "metadata": {},
   "outputs": [
    {
     "name": "stdout",
     "output_type": "stream",
     "text": [
      "Reversed String: !dlroW ,olleH\n"
     ]
    }
   ],
   "source": [
    "class StrRev:\n",
    "    def __init__(self, string):\n",
    "        self.string = string\n",
    "\n",
    "    def rev_str(self):\n",
    "        return self.string[::-1]\n",
    "\n",
    "\n",
    "# Usage example\n",
    "string = \"Hello, World!\"\n",
    "\n",
    "reverse = StrRev(string)\n",
    "rev_string = reverse.rev_str()\n",
    "print(\"Reversed String:\", rev_string)"
   ]
  },
  {
   "cell_type": "code",
   "execution_count": 10,
   "id": "455fec32",
   "metadata": {},
   "outputs": [
    {
     "name": "stdout",
     "output_type": "stream",
     "text": [
      "Enter a first value:100\n",
      "Enter a second value:35\n",
      "Addition Result: 135\n",
      "Subtraction Result: 65\n"
     ]
    }
   ],
   "source": [
    "class Operation:\n",
    "    def perform_operation(self, operand1, operand2):\n",
    "        pass\n",
    "\n",
    "class Addition(Operation):\n",
    "    def perform_operation(self, operand1, operand2):\n",
    "        return operand1 + operand2\n",
    "\n",
    "class Subtraction(Operation):\n",
    "    def perform_operation(self, operand1, operand2):\n",
    "        return operand1 - operand2\n",
    "\n",
    "# Usage example\n",
    "operand1 = int(input(\"Enter a first value:\"))\n",
    "operand2 = int(input(\"Enter a second value:\"))\n",
    "\n",
    "addition = Addition()\n",
    "addition_result = addition.perform_operation(operand1, operand2)\n",
    "print(\"Addition Result:\", addition_result)\n",
    "\n",
    "subtraction = Subtraction()\n",
    "subtraction_result = subtraction.perform_operation(operand1, operand2)\n",
    "print(\"Subtraction Result:\", subtraction_result)"
   ]
  },
  {
   "cell_type": "markdown",
   "id": "21c72220",
   "metadata": {},
   "source": [
    "### Method overloading"
   ]
  },
  {
   "cell_type": "code",
   "execution_count": 14,
   "id": "6ed42e69",
   "metadata": {},
   "outputs": [
    {
     "name": "stdout",
     "output_type": "stream",
     "text": [
      "Result 1: 5\n",
      "Result 2: 9\n"
     ]
    }
   ],
   "source": [
    "class MathOperations:\n",
    "    def add(self, a, b, c=None):\n",
    "        if c is None:\n",
    "            return a + b\n",
    "        else:\n",
    "            return a + b + c\n",
    "\n",
    "math = MathOperations()\n",
    "\n",
    "result1 = math.add(2, 3)\n",
    "print(\"Result 1:\", result1)\n",
    "\n",
    "result2 = math.add(2, 3, 4)\n",
    "print(\"Result 2:\", result2)"
   ]
  },
  {
   "cell_type": "markdown",
   "id": "a677933c",
   "metadata": {},
   "source": [
    "## Method Overriding"
   ]
  },
  {
   "cell_type": "code",
   "execution_count": 15,
   "id": "cacfec68",
   "metadata": {},
   "outputs": [
    {
     "name": "stdout",
     "output_type": "stream",
     "text": [
      "Vehicle is being driven.\n",
      "Car is being driven.\n",
      "Motorcycle is being driven.\n"
     ]
    }
   ],
   "source": [
    "class Vehicle:\n",
    "    def drive(self):\n",
    "        print(\"Vehicle is being driven.\")\n",
    "\n",
    "class Car(Vehicle):\n",
    "    def drive(self):\n",
    "        print(\"Car is being driven.\")\n",
    "\n",
    "class Motorcycle(Vehicle):\n",
    "    def drive(self):\n",
    "        print(\"Motorcycle is being driven.\")\n",
    "\n",
    "vehicle = Vehicle()\n",
    "vehicle.drive()\n",
    "\n",
    "car = Car()\n",
    "car.drive()\n",
    "\n",
    "motorcycle = Motorcycle()\n",
    "motorcycle.drive()"
   ]
  }
 ],
 "metadata": {
  "kernelspec": {
   "display_name": "Python 3 (ipykernel)",
   "language": "python",
   "name": "python3"
  },
  "language_info": {
   "codemirror_mode": {
    "name": "ipython",
    "version": 3
   },
   "file_extension": ".py",
   "mimetype": "text/x-python",
   "name": "python",
   "nbconvert_exporter": "python",
   "pygments_lexer": "ipython3",
   "version": "3.9.12"
  }
 },
 "nbformat": 4,
 "nbformat_minor": 5
}
