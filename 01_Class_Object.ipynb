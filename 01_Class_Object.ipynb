{
 "cells": [
  {
   "cell_type": "markdown",
   "id": "400e408b",
   "metadata": {},
   "source": [
    "- OOPS stands for Object-Oriented Programming (OOP) which is a programming paradigm that focuses on the use of objects to         design software systems. \n",
    "\n",
    "- Python is an object-oriented programming language and thus it fully supports OOP concepts. \n",
    "\n",
    "- In Python, everything is an object including functions, data types, and modules. \n",
    "\n",
    "- Python provides various OOP concepts such as classes, objects, inheritance, polymorphism, and encapsulation.\n",
    "\n",
    "- Classes in Python are blueprints for creating objects. \n",
    "\n",
    "- They define the properties and methods of an object. \n",
    "\n",
    "- An object is an instance of a class, which can have attributes and methods.\n",
    "\n",
    "- Inheritance allows a class to inherit attributes and methods from another class. \n",
    "\n",
    "- Polymorphism allows an object to take on many forms, depending on the context in which it is used. \n",
    "\n",
    "- Encapsulation refers to the practice of hiding the internal details of an object and only exposing a public interface to the   outside world.\n",
    "\n",
    "- OOP in Python enables developers to create reusable code, organize code into logical and manageable components, and build       complex software systems with ease."
   ]
  },
  {
   "cell_type": "markdown",
   "id": "08c6043f",
   "metadata": {},
   "source": [
    "***1)Object Oriented Programming..(Class,Object concept defined under oops)***\n",
    "- Class - we can define variable and method/function in class..\n",
    "- Object - object is used to call function defined in class"
   ]
  },
  {
   "cell_type": "code",
   "execution_count": 1,
   "id": "608dfb85",
   "metadata": {},
   "outputs": [
    {
     "name": "stdout",
     "output_type": "stream",
     "text": [
      "Hello, my name is Sunil and I am 38 years old.\n",
      "Hello, my name is Santosh and I am 32 years old.\n"
     ]
    }
   ],
   "source": [
    "# Define a class called Person\n",
    "class Person:\n",
    "    def __init__(self, name, age):\n",
    "        self.name = name\n",
    "        self.age = age\n",
    "    \n",
    "    def greet(self):\n",
    "        print(f\"Hello, my name is {self.name} and I am {self.age} years old.\")\n",
    "\n",
    "# Create two objects of the Person class\n",
    "person1 = Person(\"Sunil\", 38)\n",
    "person2 = Person(\"Santosh\", 32)\n",
    "\n",
    "# Call the greet() method for each object\n",
    "person1.greet()\n",
    "person2.greet()"
   ]
  },
  {
   "cell_type": "code",
   "execution_count": 2,
   "id": "6119c1a2",
   "metadata": {},
   "outputs": [
    {
     "name": "stdout",
     "output_type": "stream",
     "text": [
      "10\n",
      "10\n",
      "60\n"
     ]
    }
   ],
   "source": [
    "class DemoClass:\n",
    "    a=10\n",
    "    def sumvalue(self):\n",
    "        print(20+40)\n",
    "\n",
    "demoobject = DemoClass()\n",
    "demoobject1 = DemoClass()\n",
    "print(demoobject.a)\n",
    "print(demoobject1.a)\n",
    "demoobject.sumvalue()"
   ]
  },
  {
   "cell_type": "code",
   "execution_count": 3,
   "id": "53217b53",
   "metadata": {},
   "outputs": [],
   "source": [
    "class BankAccount:\n",
    "    def __init__(self, account_number, balance, account_holder):\n",
    "        self.account_number = account_number\n",
    "        self.balance = balance\n",
    "        self.account_holder = account_holder\n",
    "\n",
    "    def deposit(self, amount):\n",
    "        self.balance += amount\n",
    "\n",
    "    def withdraw(self, amount):\n",
    "        self.balance -= amount\n",
    "\n",
    "    def get_balance(self):\n",
    "        return self.balance\n",
    "\n",
    "# Create an instance of the BankAccount class\n",
    "my_account = BankAccount(\"123456789\", 1000, \"Sunil Zambre\")"
   ]
  },
  {
   "cell_type": "code",
   "execution_count": 4,
   "id": "a4ee51c2",
   "metadata": {},
   "outputs": [
    {
     "data": {
      "text/plain": [
       "<__main__.BankAccount at 0x140d7d1fd60>"
      ]
     },
     "execution_count": 4,
     "metadata": {},
     "output_type": "execute_result"
    }
   ],
   "source": [
    "my_account"
   ]
  },
  {
   "cell_type": "code",
   "execution_count": 5,
   "id": "0d1e721f",
   "metadata": {},
   "outputs": [
    {
     "name": "stdout",
     "output_type": "stream",
     "text": [
      "Balance: 1500\n"
     ]
    }
   ],
   "source": [
    "# Call the deposit() method on the instance\n",
    "my_account.deposit(500)\n",
    "\n",
    "# Call the get_balance() method on the instance\n",
    "balance = my_account.get_balance()\n",
    "\n",
    "# Print the balance\n",
    "print(\"Balance:\", balance)"
   ]
  },
  {
   "cell_type": "code",
   "execution_count": 6,
   "id": "2b7dea33",
   "metadata": {},
   "outputs": [
    {
     "data": {
      "text/plain": [
       "1500"
      ]
     },
     "execution_count": 6,
     "metadata": {},
     "output_type": "execute_result"
    }
   ],
   "source": [
    "my_account.balance"
   ]
  },
  {
   "cell_type": "code",
   "execution_count": 7,
   "id": "b2317208",
   "metadata": {},
   "outputs": [
    {
     "data": {
      "text/plain": [
       "'123456789'"
      ]
     },
     "execution_count": 7,
     "metadata": {},
     "output_type": "execute_result"
    }
   ],
   "source": [
    "my_account.account_number"
   ]
  },
  {
   "cell_type": "code",
   "execution_count": 8,
   "id": "77b4a010",
   "metadata": {},
   "outputs": [
    {
     "data": {
      "text/plain": [
       "'Sunil Zambre'"
      ]
     },
     "execution_count": 8,
     "metadata": {},
     "output_type": "execute_result"
    }
   ],
   "source": [
    "my_account.account_holder"
   ]
  },
  {
   "cell_type": "code",
   "execution_count": 9,
   "id": "1198c9c2",
   "metadata": {},
   "outputs": [
    {
     "name": "stdout",
     "output_type": "stream",
     "text": [
      "Available balance is:1500\n",
      "Account holder name:Sunil Zambre\n",
      "Account number:123456789\n"
     ]
    }
   ],
   "source": [
    "print(f\"Available balance is:{my_account.balance}\")\n",
    "\n",
    "print(f\"Account holder name:{my_account.account_holder}\")\n",
    "\n",
    "print(f\"Account number:{my_account.account_number}\")"
   ]
  },
  {
   "cell_type": "markdown",
   "id": "96b51898",
   "metadata": {},
   "source": [
    "## _ _init_ _ and self work:"
   ]
  },
  {
   "cell_type": "code",
   "execution_count": 10,
   "id": "575b40df",
   "metadata": {},
   "outputs": [
    {
     "name": "stdout",
     "output_type": "stream",
     "text": [
      "Hello, my name is Sunil and I am 38 years old.\n"
     ]
    }
   ],
   "source": [
    "class Person:\n",
    "    def __init__(self, name, age):\n",
    "        self.name = name\n",
    "        self.age = age\n",
    "\n",
    "    def say_hello(self):\n",
    "        print(\"Hello, my name is\", self.name, \"and I am\", self.age, \"years old.\")\n",
    "\n",
    "# Create an instance of the Person class\n",
    "person1 = Person(\"Sunil\", 38)\n",
    "\n",
    "# Call the say_hello() method on the instance\n",
    "person1.say_hello()"
   ]
  },
  {
   "cell_type": "code",
   "execution_count": 11,
   "id": "ee749075",
   "metadata": {},
   "outputs": [
    {
     "name": "stdout",
     "output_type": "stream",
     "text": [
      "Area 1: 50\n",
      "Area 2: 32\n"
     ]
    }
   ],
   "source": [
    "class Rectangle:\n",
    "    def __init__(self, length, width):\n",
    "        self.length = length\n",
    "        self.width = width\n",
    "\n",
    "    def area(self):\n",
    "        return self.length * self.width\n",
    "\n",
    "# Create an instance of the Rectangle class\n",
    "rect1 = Rectangle(10, 5)\n",
    "\n",
    "# Call the area() method on the instance\n",
    "area1 = rect1.area()\n",
    "\n",
    "# Print the area\n",
    "print(\"Area 1:\", area1)\n",
    "\n",
    "# Create another instance of the Rectangle class\n",
    "rect2 = Rectangle(8, 4)\n",
    "\n",
    "# Call the area() method on the second instance\n",
    "area2 = rect2.area()\n",
    "\n",
    "# Print the area of the second instance\n",
    "print(\"Area 2:\", area2)"
   ]
  }
 ],
 "metadata": {
  "kernelspec": {
   "display_name": "Python 3 (ipykernel)",
   "language": "python",
   "name": "python3"
  },
  "language_info": {
   "codemirror_mode": {
    "name": "ipython",
    "version": 3
   },
   "file_extension": ".py",
   "mimetype": "text/x-python",
   "name": "python",
   "nbconvert_exporter": "python",
   "pygments_lexer": "ipython3",
   "version": "3.9.12"
  }
 },
 "nbformat": 4,
 "nbformat_minor": 5
}
