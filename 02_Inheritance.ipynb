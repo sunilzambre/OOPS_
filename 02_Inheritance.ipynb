{
 "cells": [
  {
   "cell_type": "markdown",
   "id": "e495442f",
   "metadata": {},
   "source": [
    "## Inheritance..\n",
    "if we have two class a,b...if we have to inherit(take) all properties of class a in class b then we should use Inheritance\n",
    "In Inheritance we can call both class a and b methods by single object"
   ]
  },
  {
   "cell_type": "markdown",
   "id": "c8eb6acb",
   "metadata": {},
   "source": [
    "**Types of Inheritance**\n",
    "1. Single Inheritance..where we  call class a properties in class b\n",
    "2. Multiple Inheritance..where we  call class a properties in class b and class b properties in class c\n",
    "3. Multilevel Inheritance..where we call class a ans b properties in class c"
   ]
  },
  {
   "cell_type": "code",
   "execution_count": 1,
   "id": "da649a4a",
   "metadata": {},
   "outputs": [
    {
     "name": "stdout",
     "output_type": "stream",
     "text": [
      "Welcome to India A\n",
      "Welcome to India B\n",
      "Welcome to India C\n"
     ]
    }
   ],
   "source": [
    "class A:\n",
    "    def displayA(self):\n",
    "        print(\"Welcome to India A\")\n",
    "\n",
    "class B(A):                             #Single Inheritance\n",
    "#class B:\n",
    "    def displayB(self):\n",
    "        print(\"Welcome to India B\")\n",
    "\n",
    "class C(B):                               #Multi Inheritance\n",
    "#class C(A,B):                          #Multiple Inheritance\n",
    "    def displayC(self):\n",
    "        print(\"Welcome to India C\")\n",
    "\n",
    "obj = C()\n",
    "obj.displayA()\n",
    "obj.displayB()\n",
    "obj.displayC()"
   ]
  },
  {
   "cell_type": "code",
   "execution_count": 2,
   "id": "ab62dd8d",
   "metadata": {},
   "outputs": [
    {
     "name": "stdout",
     "output_type": "stream",
     "text": [
      "Some generic sound\n",
      "Bark\n",
      "Meow\n"
     ]
    }
   ],
   "source": [
    "class Animal:\n",
    "    def __init__(self, name):\n",
    "        self.name = name\n",
    "\n",
    "    def make_sound(self):\n",
    "        print(\"Some generic sound\")\n",
    "\n",
    "class Dog(Animal):\n",
    "    def make_sound(self):\n",
    "        print(\"Bark\")\n",
    "\n",
    "class Cat(Animal):\n",
    "    def make_sound(self):\n",
    "        print(\"Meow\")\n",
    "\n",
    "# Create instances of the classes and call the make_sound() method\n",
    "animal = Animal(\"Generic Animal\")\n",
    "dog = Dog(\"Rufus\")\n",
    "cat = Cat(\"Whiskers\")\n",
    "\n",
    "animal.make_sound() # prints \"Some generic sound\"\n",
    "dog.make_sound() # prints \"Bark\"\n",
    "cat.make_sound() # prints \"Meow\""
   ]
  },
  {
   "cell_type": "code",
   "execution_count": 3,
   "id": "d89adbe3",
   "metadata": {},
   "outputs": [
    {
     "name": "stdout",
     "output_type": "stream",
     "text": [
      "Starting the vehicle\n",
      "Starting the car\n",
      "Starting the motorcycle\n"
     ]
    }
   ],
   "source": [
    "class Vehicle:\n",
    "    def __init__(self, make, model, year):\n",
    "        self.make = make\n",
    "        self.model = model\n",
    "        self.year = year\n",
    "\n",
    "    def start(self):\n",
    "        print(\"Starting the vehicle\")\n",
    "\n",
    "class Car(Vehicle):\n",
    "    def __init__(self, make, model, year, num_doors):\n",
    "        super().__init__(make, model, year)\n",
    "        self.num_doors = num_doors\n",
    "\n",
    "    def start(self):\n",
    "        print(\"Starting the car\")\n",
    "\n",
    "class Motorcycle(Vehicle):\n",
    "    def __init__(self, make, model, year, num_wheels):\n",
    "        super().__init__(make, model, year)\n",
    "        self.num_wheels = num_wheels\n",
    "\n",
    "    def start(self):\n",
    "        print(\"Starting the motorcycle\")\n",
    "\n",
    "# Create instances of the classes and call the start() method\n",
    "vehicle = Vehicle(\"Generic\", \"Vehicle\", 2021)\n",
    "car = Car(\"Toyota\", \"Corolla\", 2018, 4)\n",
    "motorcycle = Motorcycle(\"Harley-Davidson\", \"Sportster\", 2020, 2)\n",
    "\n",
    "vehicle.start() # prints \"Starting the vehicle\"\n",
    "car.start() # prints \"Starting the car\"\n",
    "motorcycle.start() # prints \"Starting the motorcycle\""
   ]
  },
  {
   "cell_type": "code",
   "execution_count": 4,
   "id": "7e0ecc0c",
   "metadata": {},
   "outputs": [
    {
     "name": "stdout",
     "output_type": "stream",
     "text": [
      "The blue rectangle has an area of 15 square units\n",
      "The red circle has an area of 50.26548245743669 square units\n"
     ]
    }
   ],
   "source": [
    "from math import pi\n",
    "\n",
    "class Shape:\n",
    "    def __init__(self, color):\n",
    "        self.color = color\n",
    "\n",
    "    def get_color(self):\n",
    "        return self.color\n",
    "\n",
    "class Rectangle(Shape):\n",
    "    def __init__(self, color, length, width):\n",
    "        super().__init__(color)\n",
    "        self.length = length\n",
    "        self.width = width\n",
    "\n",
    "    def get_area(self):\n",
    "        return self.length * self.width\n",
    "\n",
    "class Circle(Shape):\n",
    "    def __init__(self, color, radius):\n",
    "        super().__init__(color)\n",
    "        self.radius = radius\n",
    "\n",
    "    def get_area(self):\n",
    "        return pi * self.radius ** 2\n",
    "\n",
    "# Create instances of the classes and set their color and dimensions\n",
    "rectangle = Rectangle(\"blue\", 5, 3)\n",
    "circle = Circle(\"red\", 4)\n",
    "\n",
    "# Print out their color and area\n",
    "print(\"The {} rectangle has an area of {} square units\".format(rectangle.get_color(), rectangle.get_area()))\n",
    "print(\"The {} circle has an area of {} square units\".format(circle.get_color(), circle.get_area()))"
   ]
  },
  {
   "cell_type": "markdown",
   "id": "88205e47",
   "metadata": {},
   "source": [
    "## Multiple Inheritance"
   ]
  },
  {
   "cell_type": "code",
   "execution_count": 5,
   "id": "6fb08258",
   "metadata": {},
   "outputs": [
    {
     "name": "stdout",
     "output_type": "stream",
     "text": [
      "Tesla\n",
      "350\n",
      "Starting vehicle...\n",
      "Ready to drive!\n",
      "Charging electric vehicle...\n"
     ]
    }
   ],
   "source": [
    "class Vehicle:\n",
    "    def __init__(self, make, model, year):\n",
    "        self.make = make\n",
    "        self.model = model\n",
    "        self.year = year\n",
    "\n",
    "    def start(self):\n",
    "        print(\"Starting vehicle...\")\n",
    "\n",
    "class Electric:\n",
    "    def __init__(self, range_per_charge):\n",
    "        self.range_per_charge = range_per_charge\n",
    "\n",
    "    def charge(self):\n",
    "        print(\"Charging electric vehicle...\")\n",
    "\n",
    "class Car(Vehicle, Electric):\n",
    "    def __init__(self, make, model, year, range_per_charge):\n",
    "        Vehicle.__init__(self, make, model, year)\n",
    "        Electric.__init__(self, range_per_charge)\n",
    "\n",
    "    def start(self):\n",
    "        super().start()\n",
    "        print(\"Ready to drive!\")\n",
    "\n",
    "my_car = Car(\"Tesla\", \"Model S\", 2021, 350)\n",
    "print(my_car.make)             # Output: Tesla\n",
    "print(my_car.range_per_charge) # Output: 350\n",
    "my_car.start()                 # Output: Starting vehicle...Ready to drive!\n",
    "my_car.charge()                # Output: Charging electric vehicle..."
   ]
  },
  {
   "cell_type": "code",
   "execution_count": 6,
   "id": "8a613dee",
   "metadata": {},
   "outputs": [
    {
     "name": "stdout",
     "output_type": "stream",
     "text": [
      "Hello, my name is Adele.\n",
      "Playing music on vocal cords...\n",
      "Singing pop music with mezzo-soprano voice...\n"
     ]
    }
   ],
   "source": [
    "class Person:\n",
    "    def __init__(self, name, age):\n",
    "        self.name = name\n",
    "        self.age = age\n",
    "\n",
    "    def say_hello(self):\n",
    "        print(f\"Hello, my name is {self.name}.\")\n",
    "\n",
    "class Artist:\n",
    "    def __init__(self, medium):\n",
    "        self.medium = medium\n",
    "\n",
    "    def create_art(self):\n",
    "        print(f\"Creating art using {self.medium}...\")\n",
    "\n",
    "class Musician:\n",
    "    def __init__(self, instrument):\n",
    "        self.instrument = instrument\n",
    "\n",
    "    def play_music(self):\n",
    "        print(f\"Playing music on {self.instrument}...\")\n",
    "\n",
    "class Singer(Musician, Person):\n",
    "    def __init__(self, name, age, genre, voice_type):\n",
    "        Person.__init__(self, name, age)\n",
    "        Musician.__init__(self, \"vocal cords\")\n",
    "        self.genre = genre\n",
    "        self.voice_type = voice_type\n",
    "\n",
    "    def sing(self):\n",
    "        print(f\"Singing {self.genre} music with {self.voice_type} voice...\")\n",
    "\n",
    "my_singer = Singer(\"Adele\", 33, \"pop\", \"mezzo-soprano\")\n",
    "my_singer.say_hello()   # Output: Hello, my name is Adele.\n",
    "my_singer.play_music()  # Output: Playing music on vocal cords...\n",
    "my_singer.sing()        # Output: Singing pop music with mezzo-soprano voice..."
   ]
  },
  {
   "cell_type": "markdown",
   "id": "17a738bb",
   "metadata": {},
   "source": [
    "## Multilevel Inheritance"
   ]
  },
  {
   "cell_type": "code",
   "execution_count": 7,
   "id": "f8c73aef",
   "metadata": {},
   "outputs": [
    {
     "name": "stdout",
     "output_type": "stream",
     "text": [
      "Tesla Model S started.\n",
      "Tesla Model S (2022) is driving.\n",
      "Charging Tesla Model S (2022) with 100 kWh battery capacity.\n"
     ]
    }
   ],
   "source": [
    "class Vehicle:\n",
    "    def __init__(self, brand, model):\n",
    "        self.brand = brand\n",
    "        self.model = model\n",
    "\n",
    "    def start(self):\n",
    "        print(f\"{self.brand} {self.model} started.\")\n",
    "\n",
    "class Car(Vehicle):\n",
    "    def __init__(self, brand, model, year):\n",
    "        super().__init__(brand, model)\n",
    "        self.year = year\n",
    "\n",
    "    def drive(self):\n",
    "        print(f\"{self.brand} {self.model} ({self.year}) is driving.\")\n",
    "\n",
    "class ElectricCar(Car):\n",
    "    def __init__(self, brand, model, year, battery_capacity):\n",
    "        super().__init__(brand, model, year)\n",
    "        self.battery_capacity = battery_capacity\n",
    "\n",
    "    def charge(self):\n",
    "        print(f\"Charging {self.brand} {self.model} ({self.year}) with {self.battery_capacity} kWh battery capacity.\")\n",
    "\n",
    "my_electric_car = ElectricCar(\"Tesla\", \"Model S\", 2022, 100)\n",
    "my_electric_car.start()  # Output: Tesla Model S started.\n",
    "my_electric_car.drive()  # Output: Tesla Model S (2022) is driving.\n",
    "my_electric_car.charge() # Output: Charging Tesla Model S (2022) with 100 kWh battery capacity."
   ]
  }
 ],
 "metadata": {
  "kernelspec": {
   "display_name": "Python 3 (ipykernel)",
   "language": "python",
   "name": "python3"
  },
  "language_info": {
   "codemirror_mode": {
    "name": "ipython",
    "version": 3
   },
   "file_extension": ".py",
   "mimetype": "text/x-python",
   "name": "python",
   "nbconvert_exporter": "python",
   "pygments_lexer": "ipython3",
   "version": "3.9.12"
  }
 },
 "nbformat": 4,
 "nbformat_minor": 5
}
